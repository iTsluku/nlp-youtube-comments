{
 "cells": [
  {
   "cell_type": "markdown",
   "metadata": {},
   "source": [
    "# Sentiment Analysis"
   ]
  },
  {
   "cell_type": "code",
   "execution_count": 2,
   "metadata": {},
   "outputs": [
    {
     "data": {
      "application/javascript": [
       "\n",
       "            setTimeout(function() {\n",
       "                var nbb_cell_id = 2;\n",
       "                var nbb_unformatted_code = \"# format code\\n# pip install nb_black\\n%load_ext nb_black\";\n",
       "                var nbb_formatted_code = \"# format code\\n# pip install nb_black\\n%load_ext nb_black\";\n",
       "                var nbb_cells = Jupyter.notebook.get_cells();\n",
       "                for (var i = 0; i < nbb_cells.length; ++i) {\n",
       "                    if (nbb_cells[i].input_prompt_number == nbb_cell_id) {\n",
       "                        if (nbb_cells[i].get_text() == nbb_unformatted_code) {\n",
       "                             nbb_cells[i].set_text(nbb_formatted_code);\n",
       "                        }\n",
       "                        break;\n",
       "                    }\n",
       "                }\n",
       "            }, 500);\n",
       "            "
      ],
      "text/plain": [
       "<IPython.core.display.Javascript object>"
      ]
     },
     "metadata": {},
     "output_type": "display_data"
    }
   ],
   "source": [
    "# format code\n",
    "# pip install nb_black\n",
    "%load_ext nb_black"
   ]
  },
  {
   "cell_type": "code",
   "execution_count": 59,
   "metadata": {},
   "outputs": [
    {
     "data": {
      "application/javascript": [
       "\n",
       "            setTimeout(function() {\n",
       "                var nbb_cell_id = 59;\n",
       "                var nbb_unformatted_code = \"import csv\\nimport random\\nimport pandas as pd\\nimport pickle\\nimport warnings\\nfrom sklearn import svm\\nfrom sklearn.model_selection import GridSearchCV\\nfrom sklearn.feature_extraction.text import CountVectorizer, TfidfVectorizer\\nfrom sklearn.model_selection import train_test_split\\nfrom sklearn.neighbors import KNeighborsClassifier\\nfrom sklearn.svm import SVC\\nfrom sklearn.tree import DecisionTreeClassifier\\nfrom sklearn.ensemble import RandomForestClassifier\\nfrom sklearn.linear_model import LogisticRegression\\nfrom sklearn.naive_bayes import BernoulliNB\\nfrom sklearn.model_selection import cross_validate\";\n",
       "                var nbb_formatted_code = \"import csv\\nimport random\\nimport pandas as pd\\nimport pickle\\nimport warnings\\nfrom sklearn import svm\\nfrom sklearn.model_selection import GridSearchCV\\nfrom sklearn.feature_extraction.text import CountVectorizer, TfidfVectorizer\\nfrom sklearn.model_selection import train_test_split\\nfrom sklearn.neighbors import KNeighborsClassifier\\nfrom sklearn.svm import SVC\\nfrom sklearn.tree import DecisionTreeClassifier\\nfrom sklearn.ensemble import RandomForestClassifier\\nfrom sklearn.linear_model import LogisticRegression\\nfrom sklearn.naive_bayes import BernoulliNB\\nfrom sklearn.model_selection import cross_validate\";\n",
       "                var nbb_cells = Jupyter.notebook.get_cells();\n",
       "                for (var i = 0; i < nbb_cells.length; ++i) {\n",
       "                    if (nbb_cells[i].input_prompt_number == nbb_cell_id) {\n",
       "                        if (nbb_cells[i].get_text() == nbb_unformatted_code) {\n",
       "                             nbb_cells[i].set_text(nbb_formatted_code);\n",
       "                        }\n",
       "                        break;\n",
       "                    }\n",
       "                }\n",
       "            }, 500);\n",
       "            "
      ],
      "text/plain": [
       "<IPython.core.display.Javascript object>"
      ]
     },
     "metadata": {},
     "output_type": "display_data"
    }
   ],
   "source": [
    "import csv\n",
    "import random\n",
    "import pandas as pd\n",
    "import pickle\n",
    "import warnings\n",
    "from sklearn import svm\n",
    "from sklearn.model_selection import GridSearchCV\n",
    "from sklearn.feature_extraction.text import CountVectorizer, TfidfVectorizer\n",
    "from sklearn.model_selection import train_test_split\n",
    "from sklearn.neighbors import KNeighborsClassifier\n",
    "from sklearn.svm import SVC\n",
    "from sklearn.tree import DecisionTreeClassifier\n",
    "from sklearn.ensemble import RandomForestClassifier\n",
    "from sklearn.linear_model import LogisticRegression\n",
    "from sklearn.naive_bayes import BernoulliNB\n",
    "from sklearn.model_selection import cross_validate"
   ]
  },
  {
   "cell_type": "markdown",
   "metadata": {},
   "source": [
    "## SentiWS\n",
    "SentimentWortschatz, or SentiWS for short, is a publicly available German-language resource for sentiment analysis, opinion mining etc. It lists positive and negative polarity bearing words weighted within t    he interval of [-1; 1] plus their part of speech tag, and if applicable, their inflections. The current version of SentiWS (v2.0) contains around 1,650 positive and 1,800 negative words, which sum up to around 16,000 positive and around 18,000 negative word forms incl. their inflections, respectively. It not only contains adjectives and adverbs explicitly expressing a sentiment, but also nouns and verbs implici    tly containing one.\n",
    "\n",
    "R. Remus, U. Quasthoff & G. Heyer: SentiWS - a Publicly Available German-language Resource for Sentiment Analysis.\n",
    "In: Proceedings of the 7th International Language Ressources and Evaluation (LREC'10), 2010"
   ]
  },
  {
   "cell_type": "code",
   "execution_count": 4,
   "metadata": {},
   "outputs": [
    {
     "data": {
      "application/javascript": [
       "\n",
       "            setTimeout(function() {\n",
       "                var nbb_cell_id = 4;\n",
       "                var nbb_unformatted_code = \"# <Word>|<POS tag> \\\\t <Polarity weight> \\\\t <Infl_1>,...,<Infl_k> \\\\n\";\n",
       "                var nbb_formatted_code = \"# <Word>|<POS tag> \\\\t <Polarity weight> \\\\t <Infl_1>,...,<Infl_k> \\\\n\";\n",
       "                var nbb_cells = Jupyter.notebook.get_cells();\n",
       "                for (var i = 0; i < nbb_cells.length; ++i) {\n",
       "                    if (nbb_cells[i].input_prompt_number == nbb_cell_id) {\n",
       "                        if (nbb_cells[i].get_text() == nbb_unformatted_code) {\n",
       "                             nbb_cells[i].set_text(nbb_formatted_code);\n",
       "                        }\n",
       "                        break;\n",
       "                    }\n",
       "                }\n",
       "            }, 500);\n",
       "            "
      ],
      "text/plain": [
       "<IPython.core.display.Javascript object>"
      ]
     },
     "metadata": {},
     "output_type": "display_data"
    }
   ],
   "source": [
    "# <Word>|<POS tag> \\t <Polarity weight> \\t <Infl_1>,...,<Infl_k> \\n"
   ]
  },
  {
   "cell_type": "code",
   "execution_count": 5,
   "metadata": {},
   "outputs": [
    {
     "data": {
      "application/javascript": [
       "\n",
       "            setTimeout(function() {\n",
       "                var nbb_cell_id = 5;\n",
       "                var nbb_unformatted_code = \"def write_back(triples):\\n    with open(\\\"data/sentiWS/train.csv\\\", \\\"w\\\", newline=\\\"\\\") as f:\\n        the_writer = csv.writer(f)\\n        for triple in triples:\\n            the_writer.writerow(list(triple))\\n\\ndef clean(line):\\n    line = line.replace(\\\"\\\\n\\\", \\\"\\\").replace(\\\" \\\", \\\"\\\").strip().lower()\\n\\n    if line == \\\"\\\":\\n        return []\\n\\n    line = line.split(\\\"\\\\t\\\")\\n    line[0] = line[0].split(\\\"|\\\")\\n    words = []\\n    try:\\n        words = line[2].split(\\\",\\\")\\n    except:\\n        if len(line) == 3:\\n            if line[2] != \\\"\\\":\\n                words.append(line[2])\\n\\n    words.append(line[0][0])\\n    triples = []  # (<Word>,<POS tag>,<Polarity weight>)\\n    for word in words:\\n        triples.append((word, line[0][1], line[1]))\\n    return triples\\n\\n\\ntriples = []\\nwith open(\\\"data/sentiWS/sentiWS_negative.txt\\\", \\\"r\\\") as negative:\\n    for line in negative.readlines():\\n        clean_words = clean(line)\\n        triples = triples + clean_words\\nwith open(\\\"data/sentiWS/sentiWS_positive.txt\\\", \\\"r\\\") as positive:\\n    for line in positive.readlines():\\n        clean_words = clean(line)\\n        triples = triples + clean_words\\n\\nwrite_back(triples)\";\n",
       "                var nbb_formatted_code = \"def write_back(triples):\\n    with open(\\\"data/sentiWS/train.csv\\\", \\\"w\\\", newline=\\\"\\\") as f:\\n        the_writer = csv.writer(f)\\n        for triple in triples:\\n            the_writer.writerow(list(triple))\\n\\n\\ndef clean(line):\\n    line = line.replace(\\\"\\\\n\\\", \\\"\\\").replace(\\\" \\\", \\\"\\\").strip().lower()\\n\\n    if line == \\\"\\\":\\n        return []\\n\\n    line = line.split(\\\"\\\\t\\\")\\n    line[0] = line[0].split(\\\"|\\\")\\n    words = []\\n    try:\\n        words = line[2].split(\\\",\\\")\\n    except:\\n        if len(line) == 3:\\n            if line[2] != \\\"\\\":\\n                words.append(line[2])\\n\\n    words.append(line[0][0])\\n    triples = []  # (<Word>,<POS tag>,<Polarity weight>)\\n    for word in words:\\n        triples.append((word, line[0][1], line[1]))\\n    return triples\\n\\n\\ntriples = []\\nwith open(\\\"data/sentiWS/sentiWS_negative.txt\\\", \\\"r\\\") as negative:\\n    for line in negative.readlines():\\n        clean_words = clean(line)\\n        triples = triples + clean_words\\nwith open(\\\"data/sentiWS/sentiWS_positive.txt\\\", \\\"r\\\") as positive:\\n    for line in positive.readlines():\\n        clean_words = clean(line)\\n        triples = triples + clean_words\\n\\nwrite_back(triples)\";\n",
       "                var nbb_cells = Jupyter.notebook.get_cells();\n",
       "                for (var i = 0; i < nbb_cells.length; ++i) {\n",
       "                    if (nbb_cells[i].input_prompt_number == nbb_cell_id) {\n",
       "                        if (nbb_cells[i].get_text() == nbb_unformatted_code) {\n",
       "                             nbb_cells[i].set_text(nbb_formatted_code);\n",
       "                        }\n",
       "                        break;\n",
       "                    }\n",
       "                }\n",
       "            }, 500);\n",
       "            "
      ],
      "text/plain": [
       "<IPython.core.display.Javascript object>"
      ]
     },
     "metadata": {},
     "output_type": "display_data"
    }
   ],
   "source": [
    "def write_back(triples):\n",
    "    with open(\"data/sentiWS/train.csv\", \"w\", newline=\"\") as f:\n",
    "        the_writer = csv.writer(f)\n",
    "        for triple in triples:\n",
    "            the_writer.writerow(list(triple))\n",
    "\n",
    "\n",
    "def clean(line):\n",
    "    line = line.replace(\"\\n\", \"\").replace(\" \", \"\").strip().lower()\n",
    "\n",
    "    if line == \"\":\n",
    "        return []\n",
    "\n",
    "    line = line.split(\"\\t\")\n",
    "    line[0] = line[0].split(\"|\")\n",
    "    words = []\n",
    "    try:\n",
    "        words = line[2].split(\",\")\n",
    "    except:\n",
    "        if len(line) == 3:\n",
    "            if line[2] != \"\":\n",
    "                words.append(line[2])\n",
    "\n",
    "    words.append(line[0][0])\n",
    "    triples = []  # (<Word>,<POS tag>,<Polarity weight>)\n",
    "    for word in words:\n",
    "        triples.append((word, line[0][1], line[1]))\n",
    "    return triples\n",
    "\n",
    "\n",
    "triples = []\n",
    "with open(\"data/sentiWS/sentiWS_negative.txt\", \"r\") as negative:\n",
    "    for line in negative.readlines():\n",
    "        clean_words = clean(line)\n",
    "        triples = triples + clean_words\n",
    "with open(\"data/sentiWS/sentiWS_positive.txt\", \"r\") as positive:\n",
    "    for line in positive.readlines():\n",
    "        clean_words = clean(line)\n",
    "        triples = triples + clean_words\n",
    "\n",
    "write_back(triples)"
   ]
  },
  {
   "cell_type": "code",
   "execution_count": 37,
   "metadata": {},
   "outputs": [
    {
     "data": {
      "application/javascript": [
       "\n",
       "            setTimeout(function() {\n",
       "                var nbb_cell_id = 37;\n",
       "                var nbb_unformatted_code = \"class Sentiment:\\n    POSITIVE = \\\"POSITIVE\\\"\\n    NEGATIVE = \\\"NEGATIVE\\\"\\n    NEUTRAL = \\\"NEUTRAL\\\"\\n\\n\\nclass WordCase:\\n    def __init__(self, word, score):\\n        self.word = word\\n        self.score = score\\n        self.sentiment = self.get_sentiment_by_score()\\n\\n    def __str__(self):\\n        return f\\\"{self.word},{self.sentiment}\\\"\\n\\n    def get_sentiment_by_score(self):\\n        if self.score <= 0.0048 and self.score >= -0.0048:\\n            return Sentiment.NEUTRAL\\n        elif self.score < -0.0048:\\n            return Sentiment.NEGATIVE\\n        elif self.score > 0.0048:\\n            return Sentiment.POSITIVE\\n\\n\\nclass WordCaseContainer:\\n    def __init__(self, word_cases):\\n        self.word_cases = word_cases\\n\\n    def get_word(self):\\n        return [x.word for x in self.word_cases]\\n\\n    def get_sentiment(self):\\n        return [x.sentiment for x in self.word_cases]\\n\\n    def evenly_distribute(self):\\n        negative = list(\\n            filter(lambda x: x.sentiment == Sentiment.NEGATIVE, self.word_cases)\\n        )\\n        positive = list(\\n            filter(lambda x: x.sentiment == Sentiment.POSITIVE, self.word_cases)\\n        )\\n        positive_shrunk = positive[: len(negative)]\\n        negative_shrunk = negative[: len(positive)]\\n        self.word_cases = negative_shrunk + positive_shrunk\\n        random.shuffle(self.word_cases)\";\n",
       "                var nbb_formatted_code = \"class Sentiment:\\n    POSITIVE = \\\"POSITIVE\\\"\\n    NEGATIVE = \\\"NEGATIVE\\\"\\n    NEUTRAL = \\\"NEUTRAL\\\"\\n\\n\\nclass WordCase:\\n    def __init__(self, word, score):\\n        self.word = word\\n        self.score = score\\n        self.sentiment = self.get_sentiment_by_score()\\n\\n    def __str__(self):\\n        return f\\\"{self.word},{self.sentiment}\\\"\\n\\n    def get_sentiment_by_score(self):\\n        if self.score <= 0.0048 and self.score >= -0.0048:\\n            return Sentiment.NEUTRAL\\n        elif self.score < -0.0048:\\n            return Sentiment.NEGATIVE\\n        elif self.score > 0.0048:\\n            return Sentiment.POSITIVE\\n\\n\\nclass WordCaseContainer:\\n    def __init__(self, word_cases):\\n        self.word_cases = word_cases\\n\\n    def get_word(self):\\n        return [x.word for x in self.word_cases]\\n\\n    def get_sentiment(self):\\n        return [x.sentiment for x in self.word_cases]\\n\\n    def evenly_distribute(self):\\n        negative = list(\\n            filter(lambda x: x.sentiment == Sentiment.NEGATIVE, self.word_cases)\\n        )\\n        positive = list(\\n            filter(lambda x: x.sentiment == Sentiment.POSITIVE, self.word_cases)\\n        )\\n        positive_shrunk = positive[: len(negative)]\\n        negative_shrunk = negative[: len(positive)]\\n        self.word_cases = negative_shrunk + positive_shrunk\\n        random.shuffle(self.word_cases)\";\n",
       "                var nbb_cells = Jupyter.notebook.get_cells();\n",
       "                for (var i = 0; i < nbb_cells.length; ++i) {\n",
       "                    if (nbb_cells[i].input_prompt_number == nbb_cell_id) {\n",
       "                        if (nbb_cells[i].get_text() == nbb_unformatted_code) {\n",
       "                             nbb_cells[i].set_text(nbb_formatted_code);\n",
       "                        }\n",
       "                        break;\n",
       "                    }\n",
       "                }\n",
       "            }, 500);\n",
       "            "
      ],
      "text/plain": [
       "<IPython.core.display.Javascript object>"
      ]
     },
     "metadata": {},
     "output_type": "display_data"
    }
   ],
   "source": [
    "class Sentiment:\n",
    "    POSITIVE = \"POSITIVE\"\n",
    "    NEGATIVE = \"NEGATIVE\"\n",
    "    NEUTRAL = \"NEUTRAL\"\n",
    "\n",
    "\n",
    "class WordCase:\n",
    "    def __init__(self, word, score):\n",
    "        self.word = word\n",
    "        self.score = score\n",
    "        self.sentiment = self.get_sentiment_by_score()\n",
    "\n",
    "    def __str__(self):\n",
    "        return f\"{self.word},{self.sentiment}\"\n",
    "\n",
    "    def get_sentiment_by_score(self):\n",
    "        if self.score <= 0.0048 and self.score >= -0.0048:\n",
    "            return Sentiment.NEUTRAL\n",
    "        elif self.score < -0.0048:\n",
    "            return Sentiment.NEGATIVE\n",
    "        elif self.score > 0.0048:\n",
    "            return Sentiment.POSITIVE\n",
    "\n",
    "\n",
    "class WordCaseContainer:\n",
    "    def __init__(self, word_cases):\n",
    "        self.word_cases = word_cases\n",
    "\n",
    "    def get_word(self):\n",
    "        return [x.word for x in self.word_cases]\n",
    "\n",
    "    def get_sentiment(self):\n",
    "        return [x.sentiment for x in self.word_cases]\n",
    "\n",
    "    def evenly_distribute(self):\n",
    "        negative = list(\n",
    "            filter(lambda x: x.sentiment == Sentiment.NEGATIVE, self.word_cases)\n",
    "        )\n",
    "        positive = list(\n",
    "            filter(lambda x: x.sentiment == Sentiment.POSITIVE, self.word_cases)\n",
    "        )\n",
    "        positive_shrunk = positive[: len(negative)]\n",
    "        negative_shrunk = negative[: len(positive)]\n",
    "        self.word_cases = negative_shrunk + positive_shrunk\n",
    "        random.shuffle(self.word_cases)"
   ]
  },
  {
   "cell_type": "code",
   "execution_count": 26,
   "metadata": {},
   "outputs": [
    {
     "data": {
      "application/javascript": [
       "\n",
       "            setTimeout(function() {\n",
       "                var nbb_cell_id = 26;\n",
       "                var nbb_unformatted_code = \"with open(\\\"data/sentiWS/train.csv\\\", \\\"r\\\") as f:\\n    f_reader = csv.reader(f)\\n    word_cases = []\\n    for line in f:\\n        line = line.replace(\\\"\\\\n\\\", \\\"\\\")\\n        line = line.split(\\\",\\\")\\n        try:\\n            word_cases.append(WordCase(line[0], float(line[2])))\\n        except:\\n            pass\";\n",
       "                var nbb_formatted_code = \"with open(\\\"data/sentiWS/train.csv\\\", \\\"r\\\") as f:\\n    f_reader = csv.reader(f)\\n    word_cases = []\\n    for line in f:\\n        line = line.replace(\\\"\\\\n\\\", \\\"\\\")\\n        line = line.split(\\\",\\\")\\n        try:\\n            word_cases.append(WordCase(line[0], float(line[2])))\\n        except:\\n            pass\";\n",
       "                var nbb_cells = Jupyter.notebook.get_cells();\n",
       "                for (var i = 0; i < nbb_cells.length; ++i) {\n",
       "                    if (nbb_cells[i].input_prompt_number == nbb_cell_id) {\n",
       "                        if (nbb_cells[i].get_text() == nbb_unformatted_code) {\n",
       "                             nbb_cells[i].set_text(nbb_formatted_code);\n",
       "                        }\n",
       "                        break;\n",
       "                    }\n",
       "                }\n",
       "            }, 500);\n",
       "            "
      ],
      "text/plain": [
       "<IPython.core.display.Javascript object>"
      ]
     },
     "metadata": {},
     "output_type": "display_data"
    }
   ],
   "source": [
    "with open(\"data/sentiWS/train.csv\", \"r\") as f:\n",
    "    f_reader = csv.reader(f)\n",
    "    word_cases = []\n",
    "    for line in f:\n",
    "        line = line.replace(\"\\n\", \"\")\n",
    "        line = line.split(\",\")\n",
    "        try:\n",
    "            word_cases.append(WordCase(line[0], float(line[2])))\n",
    "        except:\n",
    "            pass"
   ]
  },
  {
   "cell_type": "code",
   "execution_count": 27,
   "metadata": {},
   "outputs": [
    {
     "name": "stdout",
     "output_type": "stream",
     "text": [
      "aufschreien,NEUTRAL\n"
     ]
    },
    {
     "data": {
      "application/javascript": [
       "\n",
       "            setTimeout(function() {\n",
       "                var nbb_cell_id = 27;\n",
       "                var nbb_unformatted_code = \"print(word_cases[200])\";\n",
       "                var nbb_formatted_code = \"print(word_cases[200])\";\n",
       "                var nbb_cells = Jupyter.notebook.get_cells();\n",
       "                for (var i = 0; i < nbb_cells.length; ++i) {\n",
       "                    if (nbb_cells[i].input_prompt_number == nbb_cell_id) {\n",
       "                        if (nbb_cells[i].get_text() == nbb_unformatted_code) {\n",
       "                             nbb_cells[i].set_text(nbb_formatted_code);\n",
       "                        }\n",
       "                        break;\n",
       "                    }\n",
       "                }\n",
       "            }, 500);\n",
       "            "
      ],
      "text/plain": [
       "<IPython.core.display.Javascript object>"
      ]
     },
     "metadata": {},
     "output_type": "display_data"
    }
   ],
   "source": [
    "print(word_cases[200])"
   ]
  },
  {
   "cell_type": "code",
   "execution_count": 47,
   "metadata": {},
   "outputs": [
    {
     "data": {
      "application/javascript": [
       "\n",
       "            setTimeout(function() {\n",
       "                var nbb_cell_id = 47;\n",
       "                var nbb_unformatted_code = \"training, test = train_test_split(word_cases, test_size=0.2, random_state=100)\\ntrain_container = WordCaseContainer(training)\\ntest_container = WordCaseContainer(test)\";\n",
       "                var nbb_formatted_code = \"training, test = train_test_split(word_cases, test_size=0.2, random_state=100)\\ntrain_container = WordCaseContainer(training)\\ntest_container = WordCaseContainer(test)\";\n",
       "                var nbb_cells = Jupyter.notebook.get_cells();\n",
       "                for (var i = 0; i < nbb_cells.length; ++i) {\n",
       "                    if (nbb_cells[i].input_prompt_number == nbb_cell_id) {\n",
       "                        if (nbb_cells[i].get_text() == nbb_unformatted_code) {\n",
       "                             nbb_cells[i].set_text(nbb_formatted_code);\n",
       "                        }\n",
       "                        break;\n",
       "                    }\n",
       "                }\n",
       "            }, 500);\n",
       "            "
      ],
      "text/plain": [
       "<IPython.core.display.Javascript object>"
      ]
     },
     "metadata": {},
     "output_type": "display_data"
    }
   ],
   "source": [
    "training, test = train_test_split(word_cases, test_size=0.2, random_state=100)\n",
    "train_container = WordCaseContainer(training)\n",
    "test_container = WordCaseContainer(test)"
   ]
  },
  {
   "cell_type": "code",
   "execution_count": 48,
   "metadata": {},
   "outputs": [
    {
     "name": "stdout",
     "output_type": "stream",
     "text": [
      "4934\n",
      "4934\n"
     ]
    },
    {
     "data": {
      "application/javascript": [
       "\n",
       "            setTimeout(function() {\n",
       "                var nbb_cell_id = 48;\n",
       "                var nbb_unformatted_code = \"train_container.evenly_distribute()\\ntrain_x = train_container.get_word()\\ntrain_y = train_container.get_sentiment()\\n\\ntest_container.evenly_distribute()\\ntest_x = test_container.get_word()\\ntest_y = test_container.get_sentiment()\\n\\nprint(train_y.count(Sentiment.POSITIVE))\\nprint(train_y.count(Sentiment.NEGATIVE))\";\n",
       "                var nbb_formatted_code = \"train_container.evenly_distribute()\\ntrain_x = train_container.get_word()\\ntrain_y = train_container.get_sentiment()\\n\\ntest_container.evenly_distribute()\\ntest_x = test_container.get_word()\\ntest_y = test_container.get_sentiment()\\n\\nprint(train_y.count(Sentiment.POSITIVE))\\nprint(train_y.count(Sentiment.NEGATIVE))\";\n",
       "                var nbb_cells = Jupyter.notebook.get_cells();\n",
       "                for (var i = 0; i < nbb_cells.length; ++i) {\n",
       "                    if (nbb_cells[i].input_prompt_number == nbb_cell_id) {\n",
       "                        if (nbb_cells[i].get_text() == nbb_unformatted_code) {\n",
       "                             nbb_cells[i].set_text(nbb_formatted_code);\n",
       "                        }\n",
       "                        break;\n",
       "                    }\n",
       "                }\n",
       "            }, 500);\n",
       "            "
      ],
      "text/plain": [
       "<IPython.core.display.Javascript object>"
      ]
     },
     "metadata": {},
     "output_type": "display_data"
    }
   ],
   "source": [
    "train_container.evenly_distribute()\n",
    "train_x = train_container.get_word()\n",
    "train_y = train_container.get_sentiment()\n",
    "\n",
    "test_container.evenly_distribute()\n",
    "test_x = test_container.get_word()\n",
    "test_y = test_container.get_sentiment()\n",
    "\n",
    "print(train_y.count(Sentiment.POSITIVE))\n",
    "print(train_y.count(Sentiment.NEGATIVE))"
   ]
  },
  {
   "cell_type": "code",
   "execution_count": 49,
   "metadata": {},
   "outputs": [
    {
     "name": "stdout",
     "output_type": "stream",
     "text": [
      "sonnigsten\n",
      "[[0. 0. 0. ... 0. 0. 0.]]\n"
     ]
    },
    {
     "data": {
      "application/javascript": [
       "\n",
       "            setTimeout(function() {\n",
       "                var nbb_cell_id = 49;\n",
       "                var nbb_unformatted_code = \"vectorizer = TfidfVectorizer()\\ntrain_x_vectors = vectorizer.fit_transform(train_x)\\ntest_x_vectors = vectorizer.transform(test_x)\\n\\nprint(train_x[0])\\nprint(train_x_vectors[0].toarray())\";\n",
       "                var nbb_formatted_code = \"vectorizer = TfidfVectorizer()\\ntrain_x_vectors = vectorizer.fit_transform(train_x)\\ntest_x_vectors = vectorizer.transform(test_x)\\n\\nprint(train_x[0])\\nprint(train_x_vectors[0].toarray())\";\n",
       "                var nbb_cells = Jupyter.notebook.get_cells();\n",
       "                for (var i = 0; i < nbb_cells.length; ++i) {\n",
       "                    if (nbb_cells[i].input_prompt_number == nbb_cell_id) {\n",
       "                        if (nbb_cells[i].get_text() == nbb_unformatted_code) {\n",
       "                             nbb_cells[i].set_text(nbb_formatted_code);\n",
       "                        }\n",
       "                        break;\n",
       "                    }\n",
       "                }\n",
       "            }, 500);\n",
       "            "
      ],
      "text/plain": [
       "<IPython.core.display.Javascript object>"
      ]
     },
     "metadata": {},
     "output_type": "display_data"
    }
   ],
   "source": [
    "vectorizer = TfidfVectorizer()\n",
    "train_x_vectors = vectorizer.fit_transform(train_x)\n",
    "test_x_vectors = vectorizer.transform(test_x)\n",
    "\n",
    "print(train_x[0])\n",
    "print(train_x_vectors[0].toarray())"
   ]
  },
  {
   "cell_type": "code",
   "execution_count": 50,
   "metadata": {},
   "outputs": [
    {
     "name": "stdout",
     "output_type": "stream",
     "text": [
      "Random Forest : 0.5032546786004882\n",
      "['POSITIVE']\n",
      "Logistic Regression : 0.5061025223759154\n",
      "['NEGATIVE']\n",
      "SVM : 0.5061025223759154\n",
      "['NEGATIVE']\n",
      "Naive Bayes : 0.5061025223759154\n",
      "['NEGATIVE']\n",
      "Decision Tree : 0.5061025223759154\n",
      "['NEGATIVE']\n",
      "k-nearest neighbor : 0.5016273393002441\n",
      "['NEGATIVE']\n"
     ]
    },
    {
     "data": {
      "application/javascript": [
       "\n",
       "            setTimeout(function() {\n",
       "                var nbb_cell_id = 50;\n",
       "                var nbb_unformatted_code = \"warnings.filterwarnings(\\\"ignore\\\", category=FutureWarning)\\n\\nclfs_with_names = [\\n    (\\\"Random Forest\\\", RandomForestClassifier()),\\n    (\\\"Logistic Regression\\\", LogisticRegression()),\\n    (\\\"SVM\\\", SVC()),\\n    (\\\"Naive Bayes\\\", BernoulliNB()),\\n    (\\\"Decision Tree\\\", DecisionTreeClassifier()),\\n    (\\\"k-nearest neighbor\\\", KNeighborsClassifier()),\\n]\\n\\nfor name, clf in clfs_with_names:\\n    clf.fit(train_x_vectors, train_y)\\n    print(name, \\\":\\\", clf.score(test_x_vectors, test_y))\\n    print(clf.predict(test_x_vectors[0]))\";\n",
       "                var nbb_formatted_code = \"warnings.filterwarnings(\\\"ignore\\\", category=FutureWarning)\\n\\nclfs_with_names = [\\n    (\\\"Random Forest\\\", RandomForestClassifier()),\\n    (\\\"Logistic Regression\\\", LogisticRegression()),\\n    (\\\"SVM\\\", SVC()),\\n    (\\\"Naive Bayes\\\", BernoulliNB()),\\n    (\\\"Decision Tree\\\", DecisionTreeClassifier()),\\n    (\\\"k-nearest neighbor\\\", KNeighborsClassifier()),\\n]\\n\\nfor name, clf in clfs_with_names:\\n    clf.fit(train_x_vectors, train_y)\\n    print(name, \\\":\\\", clf.score(test_x_vectors, test_y))\\n    print(clf.predict(test_x_vectors[0]))\";\n",
       "                var nbb_cells = Jupyter.notebook.get_cells();\n",
       "                for (var i = 0; i < nbb_cells.length; ++i) {\n",
       "                    if (nbb_cells[i].input_prompt_number == nbb_cell_id) {\n",
       "                        if (nbb_cells[i].get_text() == nbb_unformatted_code) {\n",
       "                             nbb_cells[i].set_text(nbb_formatted_code);\n",
       "                        }\n",
       "                        break;\n",
       "                    }\n",
       "                }\n",
       "            }, 500);\n",
       "            "
      ],
      "text/plain": [
       "<IPython.core.display.Javascript object>"
      ]
     },
     "metadata": {},
     "output_type": "display_data"
    }
   ],
   "source": [
    "warnings.filterwarnings(\"ignore\", category=FutureWarning)\n",
    "\n",
    "clfs_with_names = [\n",
    "    (\"Random Forest\", RandomForestClassifier()),\n",
    "    (\"Logistic Regression\", LogisticRegression()),\n",
    "    (\"SVM\", SVC()),\n",
    "    (\"Naive Bayes\", BernoulliNB()),\n",
    "    (\"Decision Tree\", DecisionTreeClassifier()),\n",
    "    (\"k-nearest neighbor\", KNeighborsClassifier()),\n",
    "]\n",
    "\n",
    "for name, clf in clfs_with_names:\n",
    "    clf.fit(train_x_vectors, train_y)\n",
    "    print(name, \":\", clf.score(test_x_vectors, test_y))\n",
    "    print(clf.predict(test_x_vectors[0]))"
   ]
  },
  {
   "cell_type": "code",
   "execution_count": 55,
   "metadata": {},
   "outputs": [
    {
     "data": {
      "text/plain": [
       "GridSearchCV(cv=5, estimator=SVC(),\n",
       "             param_grid={'C': (1, 4, 8, 16, 32), 'kernel': ('linear', 'rbf')})"
      ]
     },
     "execution_count": 55,
     "metadata": {},
     "output_type": "execute_result"
    },
    {
     "data": {
      "application/javascript": [
       "\n",
       "            setTimeout(function() {\n",
       "                var nbb_cell_id = 55;\n",
       "                var nbb_unformatted_code = \"parameters = {\\\"kernel\\\": (\\\"linear\\\", \\\"rbf\\\"), \\\"C\\\": (1, 4, 8, 16, 32)}\\nsvc = svm.SVC()\\nclf = GridSearchCV(svc, parameters, cv=5)\\nclf.fit(train_x_vectors, train_y)\";\n",
       "                var nbb_formatted_code = \"parameters = {\\\"kernel\\\": (\\\"linear\\\", \\\"rbf\\\"), \\\"C\\\": (1, 4, 8, 16, 32)}\\nsvc = svm.SVC()\\nclf = GridSearchCV(svc, parameters, cv=5)\\nclf.fit(train_x_vectors, train_y)\";\n",
       "                var nbb_cells = Jupyter.notebook.get_cells();\n",
       "                for (var i = 0; i < nbb_cells.length; ++i) {\n",
       "                    if (nbb_cells[i].input_prompt_number == nbb_cell_id) {\n",
       "                        if (nbb_cells[i].get_text() == nbb_unformatted_code) {\n",
       "                             nbb_cells[i].set_text(nbb_formatted_code);\n",
       "                        }\n",
       "                        break;\n",
       "                    }\n",
       "                }\n",
       "            }, 500);\n",
       "            "
      ],
      "text/plain": [
       "<IPython.core.display.Javascript object>"
      ]
     },
     "metadata": {},
     "output_type": "display_data"
    }
   ],
   "source": [
    "parameters = {\"kernel\": (\"linear\", \"rbf\"), \"C\": (1, 4, 8, 16, 32)}\n",
    "svc = svm.SVC()\n",
    "clf = GridSearchCV(svc, parameters, cv=5)\n",
    "clf.fit(train_x_vectors, train_y)"
   ]
  },
  {
   "cell_type": "code",
   "execution_count": 56,
   "metadata": {},
   "outputs": [
    {
     "name": "stdout",
     "output_type": "stream",
     "text": [
      "0.5061025223759154\n"
     ]
    },
    {
     "data": {
      "application/javascript": [
       "\n",
       "            setTimeout(function() {\n",
       "                var nbb_cell_id = 56;\n",
       "                var nbb_unformatted_code = \"print(clf.score(test_x_vectors, test_y))\";\n",
       "                var nbb_formatted_code = \"print(clf.score(test_x_vectors, test_y))\";\n",
       "                var nbb_cells = Jupyter.notebook.get_cells();\n",
       "                for (var i = 0; i < nbb_cells.length; ++i) {\n",
       "                    if (nbb_cells[i].input_prompt_number == nbb_cell_id) {\n",
       "                        if (nbb_cells[i].get_text() == nbb_unformatted_code) {\n",
       "                             nbb_cells[i].set_text(nbb_formatted_code);\n",
       "                        }\n",
       "                        break;\n",
       "                    }\n",
       "                }\n",
       "            }, 500);\n",
       "            "
      ],
      "text/plain": [
       "<IPython.core.display.Javascript object>"
      ]
     },
     "metadata": {},
     "output_type": "display_data"
    }
   ],
   "source": [
    "print(clf.score(test_x_vectors, test_y))"
   ]
  },
  {
   "cell_type": "code",
   "execution_count": 60,
   "metadata": {},
   "outputs": [
    {
     "data": {
      "application/javascript": [
       "\n",
       "            setTimeout(function() {\n",
       "                var nbb_cell_id = 60;\n",
       "                var nbb_unformatted_code = \"pickle.dump(clf, open(\\\"data/models/sentiment_classifier.pkl\\\", \\\"wb\\\"))\";\n",
       "                var nbb_formatted_code = \"pickle.dump(clf, open(\\\"data/models/sentiment_classifier.pkl\\\", \\\"wb\\\"))\";\n",
       "                var nbb_cells = Jupyter.notebook.get_cells();\n",
       "                for (var i = 0; i < nbb_cells.length; ++i) {\n",
       "                    if (nbb_cells[i].input_prompt_number == nbb_cell_id) {\n",
       "                        if (nbb_cells[i].get_text() == nbb_unformatted_code) {\n",
       "                             nbb_cells[i].set_text(nbb_formatted_code);\n",
       "                        }\n",
       "                        break;\n",
       "                    }\n",
       "                }\n",
       "            }, 500);\n",
       "            "
      ],
      "text/plain": [
       "<IPython.core.display.Javascript object>"
      ]
     },
     "metadata": {},
     "output_type": "display_data"
    }
   ],
   "source": [
    "pickle.dump(clf, open(\"data/models/sentiment_classifier.pkl\", \"wb\"))"
   ]
  },
  {
   "cell_type": "markdown",
   "metadata": {},
   "source": [
    "### load"
   ]
  },
  {
   "cell_type": "code",
   "execution_count": 61,
   "metadata": {},
   "outputs": [
    {
     "data": {
      "text/plain": [
       "array(['NEGATIVE'], dtype='<U8')"
      ]
     },
     "execution_count": 61,
     "metadata": {},
     "output_type": "execute_result"
    },
    {
     "data": {
      "application/javascript": [
       "\n",
       "            setTimeout(function() {\n",
       "                var nbb_cell_id = 61;\n",
       "                var nbb_unformatted_code = \"loaded_clf = pickle.load(open(\\\"data/models/sentiment_classifier.pkl\\\", \\\"rb\\\"))\\nloaded_clf.predict(test_x_vectors[0])\";\n",
       "                var nbb_formatted_code = \"loaded_clf = pickle.load(open(\\\"data/models/sentiment_classifier.pkl\\\", \\\"rb\\\"))\\nloaded_clf.predict(test_x_vectors[0])\";\n",
       "                var nbb_cells = Jupyter.notebook.get_cells();\n",
       "                for (var i = 0; i < nbb_cells.length; ++i) {\n",
       "                    if (nbb_cells[i].input_prompt_number == nbb_cell_id) {\n",
       "                        if (nbb_cells[i].get_text() == nbb_unformatted_code) {\n",
       "                             nbb_cells[i].set_text(nbb_formatted_code);\n",
       "                        }\n",
       "                        break;\n",
       "                    }\n",
       "                }\n",
       "            }, 500);\n",
       "            "
      ],
      "text/plain": [
       "<IPython.core.display.Javascript object>"
      ]
     },
     "metadata": {},
     "output_type": "display_data"
    }
   ],
   "source": [
    "loaded_clf = pickle.load(open(\"data/models/sentiment_classifier.pkl\", \"rb\"))\n",
    "loaded_clf.predict(test_x_vectors[0])"
   ]
  }
 ],
 "metadata": {
  "kernelspec": {
   "display_name": "Python 3.8.5 64-bit",
   "language": "python",
   "name": "python38564bit13719079319b43f28007a75a272eccd3"
  },
  "language_info": {
   "codemirror_mode": {
    "name": "ipython",
    "version": 3
   },
   "file_extension": ".py",
   "mimetype": "text/x-python",
   "name": "python",
   "nbconvert_exporter": "python",
   "pygments_lexer": "ipython3",
   "version": "3.8.10"
  }
 },
 "nbformat": 4,
 "nbformat_minor": 4
}
