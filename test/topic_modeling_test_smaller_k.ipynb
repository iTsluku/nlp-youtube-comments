{
 "cells": [
  {
   "cell_type": "markdown",
   "metadata": {},
   "source": [
    "# 2. Topic Modeling - Latent Dirchlet Allocation (LDA) + time dimension"
   ]
  },
  {
   "cell_type": "code",
   "execution_count": 1,
   "metadata": {},
   "outputs": [
    {
     "data": {
      "application/javascript": [
       "\n",
       "            setTimeout(function() {\n",
       "                var nbb_cell_id = 1;\n",
       "                var nbb_unformatted_code = \"# format code\\n# pip install nb_black\\n%load_ext nb_black\";\n",
       "                var nbb_formatted_code = \"# format code\\n# pip install nb_black\\n%load_ext nb_black\";\n",
       "                var nbb_cells = Jupyter.notebook.get_cells();\n",
       "                for (var i = 0; i < nbb_cells.length; ++i) {\n",
       "                    if (nbb_cells[i].input_prompt_number == nbb_cell_id) {\n",
       "                        if (nbb_cells[i].get_text() == nbb_unformatted_code) {\n",
       "                             nbb_cells[i].set_text(nbb_formatted_code);\n",
       "                        }\n",
       "                        break;\n",
       "                    }\n",
       "                }\n",
       "            }, 500);\n",
       "            "
      ],
      "text/plain": [
       "<IPython.core.display.Javascript object>"
      ]
     },
     "metadata": {},
     "output_type": "display_data"
    }
   ],
   "source": [
    "# format code\n",
    "# pip install nb_black\n",
    "%load_ext nb_black"
   ]
  },
  {
   "cell_type": "code",
   "execution_count": 2,
   "metadata": {},
   "outputs": [
    {
     "data": {
      "application/javascript": [
       "\n",
       "            setTimeout(function() {\n",
       "                var nbb_cell_id = 2;\n",
       "                var nbb_unformatted_code = \"import pickle\\nimport numpy as np\\nimport pandas as pd\\nimport re\\nimport scipy.sparse\\nimport gensim\\nimport matplotlib.pyplot as plt\\nfrom lib.nlp_yt import sw\\nfrom gensim.corpora import Dictionary\\nfrom gensim import matutils\\nfrom gensim import models\\nfrom gensim.models.coherencemodel import CoherenceModel\\nfrom sklearn.feature_extraction.text import TfidfVectorizer\";\n",
       "                var nbb_formatted_code = \"import pickle\\nimport numpy as np\\nimport pandas as pd\\nimport re\\nimport scipy.sparse\\nimport gensim\\nimport matplotlib.pyplot as plt\\nfrom lib.nlp_yt import sw\\nfrom gensim.corpora import Dictionary\\nfrom gensim import matutils\\nfrom gensim import models\\nfrom gensim.models.coherencemodel import CoherenceModel\\nfrom sklearn.feature_extraction.text import TfidfVectorizer\";\n",
       "                var nbb_cells = Jupyter.notebook.get_cells();\n",
       "                for (var i = 0; i < nbb_cells.length; ++i) {\n",
       "                    if (nbb_cells[i].input_prompt_number == nbb_cell_id) {\n",
       "                        if (nbb_cells[i].get_text() == nbb_unformatted_code) {\n",
       "                             nbb_cells[i].set_text(nbb_formatted_code);\n",
       "                        }\n",
       "                        break;\n",
       "                    }\n",
       "                }\n",
       "            }, 500);\n",
       "            "
      ],
      "text/plain": [
       "<IPython.core.display.Javascript object>"
      ]
     },
     "metadata": {},
     "output_type": "display_data"
    }
   ],
   "source": [
    "import pickle\n",
    "import numpy as np\n",
    "import pandas as pd\n",
    "import re\n",
    "import scipy.sparse\n",
    "import gensim\n",
    "import matplotlib.pyplot as plt\n",
    "from lib.nlp_yt import sw\n",
    "from gensim.corpora import Dictionary\n",
    "from gensim import matutils\n",
    "from gensim import models\n",
    "from gensim.models.coherencemodel import CoherenceModel\n",
    "from sklearn.feature_extraction.text import TfidfVectorizer"
   ]
  },
  {
   "cell_type": "markdown",
   "metadata": {},
   "source": [
    "### comment condition:  >15words AND 10 unique words"
   ]
  },
  {
   "cell_type": "code",
   "execution_count": 3,
   "metadata": {},
   "outputs": [
    {
     "data": {
      "application/javascript": [
       "\n",
       "            setTimeout(function() {\n",
       "                var nbb_cell_id = 3;\n",
       "                var nbb_unformatted_code = \"sw = sw.get_stop_words()\";\n",
       "                var nbb_formatted_code = \"sw = sw.get_stop_words()\";\n",
       "                var nbb_cells = Jupyter.notebook.get_cells();\n",
       "                for (var i = 0; i < nbb_cells.length; ++i) {\n",
       "                    if (nbb_cells[i].input_prompt_number == nbb_cell_id) {\n",
       "                        if (nbb_cells[i].get_text() == nbb_unformatted_code) {\n",
       "                             nbb_cells[i].set_text(nbb_formatted_code);\n",
       "                        }\n",
       "                        break;\n",
       "                    }\n",
       "                }\n",
       "            }, 500);\n",
       "            "
      ],
      "text/plain": [
       "<IPython.core.display.Javascript object>"
      ]
     },
     "metadata": {},
     "output_type": "display_data"
    }
   ],
   "source": [
    "sw = sw.get_stop_words()"
   ]
  },
  {
   "cell_type": "code",
   "execution_count": 4,
   "metadata": {},
   "outputs": [
    {
     "data": {
      "application/javascript": [
       "\n",
       "            setTimeout(function() {\n",
       "                var nbb_cell_id = 4;\n",
       "                var nbb_unformatted_code = \"corpora_names = [\\n    \\\"2019-05\\\",\\n    \\\"2019-06\\\",\\n    \\\"2019-07\\\",\\n    \\\"2019-08\\\",\\n    \\\"2019-09\\\",\\n    \\\"2019-10\\\",\\n    \\\"2019-11\\\",\\n    \\\"2019-12\\\",\\n    \\\"2020-01\\\",\\n    \\\"2020-02\\\",\\n    \\\"2020-03\\\",\\n    \\\"2020-04\\\",\\n    \\\"2020-05\\\",\\n    \\\"2020-06\\\",\\n    \\\"2020-07\\\",\\n    \\\"2020-08\\\",\\n    \\\"2020-09\\\",\\n    \\\"2020-10\\\",\\n    \\\"2020-11\\\",\\n    \\\"2020-12\\\",\\n    \\\"2021-01\\\",\\n    \\\"2021-02\\\",\\n    \\\"2021-03\\\",\\n    \\\"2021-04\\\",\\n    \\\"2021-05\\\",\\n    \\\"2021-06\\\",\\n    \\\"2021-07\\\",\\n    \\\"2021-08\\\",\\n]\";\n",
       "                var nbb_formatted_code = \"corpora_names = [\\n    \\\"2019-05\\\",\\n    \\\"2019-06\\\",\\n    \\\"2019-07\\\",\\n    \\\"2019-08\\\",\\n    \\\"2019-09\\\",\\n    \\\"2019-10\\\",\\n    \\\"2019-11\\\",\\n    \\\"2019-12\\\",\\n    \\\"2020-01\\\",\\n    \\\"2020-02\\\",\\n    \\\"2020-03\\\",\\n    \\\"2020-04\\\",\\n    \\\"2020-05\\\",\\n    \\\"2020-06\\\",\\n    \\\"2020-07\\\",\\n    \\\"2020-08\\\",\\n    \\\"2020-09\\\",\\n    \\\"2020-10\\\",\\n    \\\"2020-11\\\",\\n    \\\"2020-12\\\",\\n    \\\"2021-01\\\",\\n    \\\"2021-02\\\",\\n    \\\"2021-03\\\",\\n    \\\"2021-04\\\",\\n    \\\"2021-05\\\",\\n    \\\"2021-06\\\",\\n    \\\"2021-07\\\",\\n    \\\"2021-08\\\",\\n]\";\n",
       "                var nbb_cells = Jupyter.notebook.get_cells();\n",
       "                for (var i = 0; i < nbb_cells.length; ++i) {\n",
       "                    if (nbb_cells[i].input_prompt_number == nbb_cell_id) {\n",
       "                        if (nbb_cells[i].get_text() == nbb_unformatted_code) {\n",
       "                             nbb_cells[i].set_text(nbb_formatted_code);\n",
       "                        }\n",
       "                        break;\n",
       "                    }\n",
       "                }\n",
       "            }, 500);\n",
       "            "
      ],
      "text/plain": [
       "<IPython.core.display.Javascript object>"
      ]
     },
     "metadata": {},
     "output_type": "display_data"
    }
   ],
   "source": [
    "corpora_names = [\n",
    "    \"2019-05\",\n",
    "    \"2019-06\",\n",
    "    \"2019-07\",\n",
    "    \"2019-08\",\n",
    "    \"2019-09\",\n",
    "    \"2019-10\",\n",
    "    \"2019-11\",\n",
    "    \"2019-12\",\n",
    "    \"2020-01\",\n",
    "    \"2020-02\",\n",
    "    \"2020-03\",\n",
    "    \"2020-04\",\n",
    "    \"2020-05\",\n",
    "    \"2020-06\",\n",
    "    \"2020-07\",\n",
    "    \"2020-08\",\n",
    "    \"2020-09\",\n",
    "    \"2020-10\",\n",
    "    \"2020-11\",\n",
    "    \"2020-12\",\n",
    "    \"2021-01\",\n",
    "    \"2021-02\",\n",
    "    \"2021-03\",\n",
    "    \"2021-04\",\n",
    "    \"2021-05\",\n",
    "    \"2021-06\",\n",
    "    \"2021-07\",\n",
    "    \"2021-08\",\n",
    "]"
   ]
  },
  {
   "cell_type": "code",
   "execution_count": 5,
   "metadata": {},
   "outputs": [
    {
     "data": {
      "text/html": [
       "<div>\n",
       "<style scoped>\n",
       "    .dataframe tbody tr th:only-of-type {\n",
       "        vertical-align: middle;\n",
       "    }\n",
       "\n",
       "    .dataframe tbody tr th {\n",
       "        vertical-align: top;\n",
       "    }\n",
       "\n",
       "    .dataframe thead th {\n",
       "        text-align: right;\n",
       "    }\n",
       "</style>\n",
       "<table border=\"1\" class=\"dataframe\">\n",
       "  <thead>\n",
       "    <tr style=\"text-align: right;\">\n",
       "      <th></th>\n",
       "      <th>comment</th>\n",
       "      <th>month</th>\n",
       "    </tr>\n",
       "  </thead>\n",
       "  <tbody>\n",
       "    <tr>\n",
       "      <th>0</th>\n",
       "      <td>feier sowas endlich jemand alten cdu stimme ni...</td>\n",
       "      <td>2019-05</td>\n",
       "    </tr>\n",
       "    <tr>\n",
       "      <th>1</th>\n",
       "      <td>achtung faschisten irma lo beleidigt user ganz...</td>\n",
       "      <td>2021-06</td>\n",
       "    </tr>\n",
       "    <tr>\n",
       "      <th>2</th>\n",
       "      <td>zeigt jahre jahre</td>\n",
       "      <td>2019-05</td>\n",
       "    </tr>\n",
       "    <tr>\n",
       "      <th>3</th>\n",
       "      <td>doppelmoralist rezo eigenes video dezember pri...</td>\n",
       "      <td>2021-05</td>\n",
       "    </tr>\n",
       "    <tr>\n",
       "      <th>4</th>\n",
       "      <td>richtig</td>\n",
       "      <td>2019-05</td>\n",
       "    </tr>\n",
       "    <tr>\n",
       "      <th>...</th>\n",
       "      <td>...</td>\n",
       "      <td>...</td>\n",
       "    </tr>\n",
       "    <tr>\n",
       "      <th>229492</th>\n",
       "      <td>legalisierung mehr fahrverbote läuft</td>\n",
       "      <td>2019-05</td>\n",
       "    </tr>\n",
       "    <tr>\n",
       "      <th>229493</th>\n",
       "      <td>j pepe leg fakten falsche informationen rausha...</td>\n",
       "      <td>2019-05</td>\n",
       "    </tr>\n",
       "    <tr>\n",
       "      <th>229494</th>\n",
       "      <td>bundestag stehen abgeordnete mandat halten unt...</td>\n",
       "      <td>2019-05</td>\n",
       "    </tr>\n",
       "    <tr>\n",
       "      <th>229495</th>\n",
       "      <td>liebe user lasst daran hindern frei meinung ek...</td>\n",
       "      <td>2021-07</td>\n",
       "    </tr>\n",
       "    <tr>\n",
       "      <th>229496</th>\n",
       "      <td>black ritter widerspreche mal freund rechtspop...</td>\n",
       "      <td>2021-04</td>\n",
       "    </tr>\n",
       "  </tbody>\n",
       "</table>\n",
       "<p>229497 rows × 2 columns</p>\n",
       "</div>"
      ],
      "text/plain": [
       "                                                  comment    month\n",
       "0       feier sowas endlich jemand alten cdu stimme ni...  2019-05\n",
       "1       achtung faschisten irma lo beleidigt user ganz...  2021-06\n",
       "2                                       zeigt jahre jahre  2019-05\n",
       "3       doppelmoralist rezo eigenes video dezember pri...  2021-05\n",
       "4                                                 richtig  2019-05\n",
       "...                                                   ...      ...\n",
       "229492               legalisierung mehr fahrverbote läuft  2019-05\n",
       "229493  j pepe leg fakten falsche informationen rausha...  2019-05\n",
       "229494  bundestag stehen abgeordnete mandat halten unt...  2019-05\n",
       "229495  liebe user lasst daran hindern frei meinung ek...  2021-07\n",
       "229496  black ritter widerspreche mal freund rechtspop...  2021-04\n",
       "\n",
       "[229497 rows x 2 columns]"
      ]
     },
     "execution_count": 5,
     "metadata": {},
     "output_type": "execute_result"
    },
    {
     "data": {
      "application/javascript": [
       "\n",
       "            setTimeout(function() {\n",
       "                var nbb_cell_id = 5;\n",
       "                var nbb_unformatted_code = \"corpus = pd.read_pickle(\\\"data/pickle/corpus_tm_clean_df.pkl\\\")\\ncorpus\";\n",
       "                var nbb_formatted_code = \"corpus = pd.read_pickle(\\\"data/pickle/corpus_tm_clean_df.pkl\\\")\\ncorpus\";\n",
       "                var nbb_cells = Jupyter.notebook.get_cells();\n",
       "                for (var i = 0; i < nbb_cells.length; ++i) {\n",
       "                    if (nbb_cells[i].input_prompt_number == nbb_cell_id) {\n",
       "                        if (nbb_cells[i].get_text() == nbb_unformatted_code) {\n",
       "                             nbb_cells[i].set_text(nbb_formatted_code);\n",
       "                        }\n",
       "                        break;\n",
       "                    }\n",
       "                }\n",
       "            }, 500);\n",
       "            "
      ],
      "text/plain": [
       "<IPython.core.display.Javascript object>"
      ]
     },
     "metadata": {},
     "output_type": "display_data"
    }
   ],
   "source": [
    "corpus = pd.read_pickle(\"data/pickle/corpus_tm_clean_df.pkl\")\n",
    "corpus"
   ]
  },
  {
   "cell_type": "code",
   "execution_count": 6,
   "metadata": {},
   "outputs": [
    {
     "name": "stdout",
     "output_type": "stream",
     "text": [
      "[('2019-05', 131834), ('2019-06', 14808), ('2019-07', 2640), ('2019-08', 2395), ('2019-09', 1866), ('2019-10', 1171), ('2019-11', 1287), ('2019-12', 1366), ('2020-01', 1075), ('2020-02', 1131), ('2020-03', 1050), ('2020-04', 1568), ('2020-05', 1379), ('2020-06', 1863), ('2020-07', 1713), ('2020-08', 2104), ('2020-09', 1845), ('2020-10', 1974), ('2020-11', 2150), ('2020-12', 1520), ('2021-01', 3090), ('2021-02', 8085), ('2021-03', 9033), ('2021-04', 11308), ('2021-05', 6824), ('2021-06', 3288), ('2021-07', 9406), ('2021-08', 1724)]\n"
     ]
    },
    {
     "data": {
      "application/javascript": [
       "\n",
       "            setTimeout(function() {\n",
       "                var nbb_cell_id = 6;\n",
       "                var nbb_unformatted_code = \"corpus_d = {}\\nfor month in corpora_names:\\n    corpus_d[month] = {\\n        \\\"len\\\": len(corpus.loc[corpus[\\\"month\\\"] == month]),\\n        \\\"corpora\\\": pd.DataFrame(\\n            pd.DataFrame(corpus.loc[corpus[\\\"month\\\"] == month])[\\\"comment\\\"]\\n        ),\\n    }\\n\\n\\ncorpora_info = []\\n\\nfor key, value in corpus_d.items():\\n    corpora_info.append((key, value[\\\"len\\\"]))\\n\\ncorpora_docs = [x[1] for x in corpora_info]\\ncorpora_docs_sum = sum(corpora_docs)\\n\\nprint(corpora_info)\";\n",
       "                var nbb_formatted_code = \"corpus_d = {}\\nfor month in corpora_names:\\n    corpus_d[month] = {\\n        \\\"len\\\": len(corpus.loc[corpus[\\\"month\\\"] == month]),\\n        \\\"corpora\\\": pd.DataFrame(\\n            pd.DataFrame(corpus.loc[corpus[\\\"month\\\"] == month])[\\\"comment\\\"]\\n        ),\\n    }\\n\\n\\ncorpora_info = []\\n\\nfor key, value in corpus_d.items():\\n    corpora_info.append((key, value[\\\"len\\\"]))\\n\\ncorpora_docs = [x[1] for x in corpora_info]\\ncorpora_docs_sum = sum(corpora_docs)\\n\\nprint(corpora_info)\";\n",
       "                var nbb_cells = Jupyter.notebook.get_cells();\n",
       "                for (var i = 0; i < nbb_cells.length; ++i) {\n",
       "                    if (nbb_cells[i].input_prompt_number == nbb_cell_id) {\n",
       "                        if (nbb_cells[i].get_text() == nbb_unformatted_code) {\n",
       "                             nbb_cells[i].set_text(nbb_formatted_code);\n",
       "                        }\n",
       "                        break;\n",
       "                    }\n",
       "                }\n",
       "            }, 500);\n",
       "            "
      ],
      "text/plain": [
       "<IPython.core.display.Javascript object>"
      ]
     },
     "metadata": {},
     "output_type": "display_data"
    }
   ],
   "source": [
    "corpus_d = {}\n",
    "for month in corpora_names:\n",
    "    corpus_d[month] = {\n",
    "        \"len\": len(corpus.loc[corpus[\"month\"] == month]),\n",
    "        \"corpora\": pd.DataFrame(\n",
    "            pd.DataFrame(corpus.loc[corpus[\"month\"] == month])[\"comment\"]\n",
    "        ),\n",
    "    }\n",
    "\n",
    "\n",
    "corpora_info = []\n",
    "\n",
    "for key, value in corpus_d.items():\n",
    "    corpora_info.append((key, value[\"len\"]))\n",
    "\n",
    "corpora_docs = [x[1] for x in corpora_info]\n",
    "corpora_docs_sum = sum(corpora_docs)\n",
    "\n",
    "print(corpora_info)"
   ]
  },
  {
   "cell_type": "code",
   "execution_count": 7,
   "metadata": {
    "scrolled": true
   },
   "outputs": [
    {
     "name": "stdout",
     "output_type": "stream",
     "text": [
      "\n",
      "progress: 229400/229497\n"
     ]
    },
    {
     "data": {
      "application/javascript": [
       "\n",
       "            setTimeout(function() {\n",
       "                var nbb_cell_id = 7;\n",
       "                var nbb_unformatted_code = \"MIN_WORDS = 15\\nMIN_UNIQUE_WORDS = 10\\nprogress = 0\\nprint(\\\"\\\")\\n\\nfor key, value in corpus_d.items():\\n    value[\\\"texts\\\"] = []\\n    doc_to_drop = []\\n\\n    for i in list(value[\\\"corpora\\\"].index):\\n        progress += 1\\n        if len(value[\\\"corpora\\\"].loc[i].comment.split()) < MIN_WORDS:\\n            doc_to_drop.append(i)\\n        elif len(set(value[\\\"corpora\\\"].loc[i].comment.split())) < MIN_UNIQUE_WORDS:\\n            doc_to_drop.append(i)\\n        else:\\n            # (list of list of str) Tokenized texts, needed for coherence models\\n            value[\\\"texts\\\"].append(value[\\\"corpora\\\"].loc[i].comment.split())\\n\\n        if progress % 100 == 0:\\n            print(f\\\"progress: {progress}/{corpora_docs_sum}\\\", end=\\\"\\\\r\\\")\\n\\n    value[\\\"corpora\\\"] = value[\\\"corpora\\\"].drop(index=doc_to_drop)\\n\\n    d_ = {}\\n    for i, v in enumerate(list(value[\\\"corpora\\\"].index)):\\n        d_[v] = i\\n    value[\\\"corpora\\\"] = value[\\\"corpora\\\"].rename(index=d_)\\n\\nprint(\\\"\\\")\";\n",
       "                var nbb_formatted_code = \"MIN_WORDS = 15\\nMIN_UNIQUE_WORDS = 10\\nprogress = 0\\nprint(\\\"\\\")\\n\\nfor key, value in corpus_d.items():\\n    value[\\\"texts\\\"] = []\\n    doc_to_drop = []\\n\\n    for i in list(value[\\\"corpora\\\"].index):\\n        progress += 1\\n        if len(value[\\\"corpora\\\"].loc[i].comment.split()) < MIN_WORDS:\\n            doc_to_drop.append(i)\\n        elif len(set(value[\\\"corpora\\\"].loc[i].comment.split())) < MIN_UNIQUE_WORDS:\\n            doc_to_drop.append(i)\\n        else:\\n            # (list of list of str) Tokenized texts, needed for coherence models\\n            value[\\\"texts\\\"].append(value[\\\"corpora\\\"].loc[i].comment.split())\\n\\n        if progress % 100 == 0:\\n            print(f\\\"progress: {progress}/{corpora_docs_sum}\\\", end=\\\"\\\\r\\\")\\n\\n    value[\\\"corpora\\\"] = value[\\\"corpora\\\"].drop(index=doc_to_drop)\\n\\n    d_ = {}\\n    for i, v in enumerate(list(value[\\\"corpora\\\"].index)):\\n        d_[v] = i\\n    value[\\\"corpora\\\"] = value[\\\"corpora\\\"].rename(index=d_)\\n\\nprint(\\\"\\\")\";\n",
       "                var nbb_cells = Jupyter.notebook.get_cells();\n",
       "                for (var i = 0; i < nbb_cells.length; ++i) {\n",
       "                    if (nbb_cells[i].input_prompt_number == nbb_cell_id) {\n",
       "                        if (nbb_cells[i].get_text() == nbb_unformatted_code) {\n",
       "                             nbb_cells[i].set_text(nbb_formatted_code);\n",
       "                        }\n",
       "                        break;\n",
       "                    }\n",
       "                }\n",
       "            }, 500);\n",
       "            "
      ],
      "text/plain": [
       "<IPython.core.display.Javascript object>"
      ]
     },
     "metadata": {},
     "output_type": "display_data"
    }
   ],
   "source": [
    "MIN_WORDS = 15\n",
    "MIN_UNIQUE_WORDS = 10\n",
    "progress = 0\n",
    "print(\"\")\n",
    "\n",
    "for key, value in corpus_d.items():\n",
    "    value[\"texts\"] = []\n",
    "    doc_to_drop = []\n",
    "\n",
    "    for i in list(value[\"corpora\"].index):\n",
    "        progress += 1\n",
    "        if len(value[\"corpora\"].loc[i].comment.split()) < MIN_WORDS:\n",
    "            doc_to_drop.append(i)\n",
    "        elif len(set(value[\"corpora\"].loc[i].comment.split())) < MIN_UNIQUE_WORDS:\n",
    "            doc_to_drop.append(i)\n",
    "        else:\n",
    "            # (list of list of str) Tokenized texts, needed for coherence models\n",
    "            value[\"texts\"].append(value[\"corpora\"].loc[i].comment.split())\n",
    "\n",
    "        if progress % 100 == 0:\n",
    "            print(f\"progress: {progress}/{corpora_docs_sum}\", end=\"\\r\")\n",
    "\n",
    "    value[\"corpora\"] = value[\"corpora\"].drop(index=doc_to_drop)\n",
    "\n",
    "    d_ = {}\n",
    "    for i, v in enumerate(list(value[\"corpora\"].index)):\n",
    "        d_[v] = i\n",
    "    value[\"corpora\"] = value[\"corpora\"].rename(index=d_)\n",
    "\n",
    "print(\"\")"
   ]
  },
  {
   "cell_type": "code",
   "execution_count": 8,
   "metadata": {},
   "outputs": [
    {
     "name": "stdout",
     "output_type": "stream",
     "text": [
      "[('2019-05', 44293), ('2019-06', 6020), ('2019-07', 1064), ('2019-08', 945), ('2019-09', 642), ('2019-10', 409), ('2019-11', 510), ('2019-12', 452), ('2020-01', 340), ('2020-02', 360), ('2020-03', 258), ('2020-04', 410), ('2020-05', 386), ('2020-06', 509), ('2020-07', 419), ('2020-08', 536), ('2020-09', 325), ('2020-10', 371), ('2020-11', 384), ('2020-12', 269), ('2021-01', 678), ('2021-02', 2212), ('2021-03', 3860), ('2021-04', 6106), ('2021-05', 3651), ('2021-06', 1128), ('2021-07', 4501), ('2021-08', 854)]\n"
     ]
    },
    {
     "data": {
      "application/javascript": [
       "\n",
       "            setTimeout(function() {\n",
       "                var nbb_cell_id = 8;\n",
       "                var nbb_unformatted_code = \"corpora_filtered_info = [\\n    (key, len(value[\\\"corpora\\\"].index)) for key, value in corpus_d.items()\\n]\\nprint(corpora_filtered_info)\";\n",
       "                var nbb_formatted_code = \"corpora_filtered_info = [\\n    (key, len(value[\\\"corpora\\\"].index)) for key, value in corpus_d.items()\\n]\\nprint(corpora_filtered_info)\";\n",
       "                var nbb_cells = Jupyter.notebook.get_cells();\n",
       "                for (var i = 0; i < nbb_cells.length; ++i) {\n",
       "                    if (nbb_cells[i].input_prompt_number == nbb_cell_id) {\n",
       "                        if (nbb_cells[i].get_text() == nbb_unformatted_code) {\n",
       "                             nbb_cells[i].set_text(nbb_formatted_code);\n",
       "                        }\n",
       "                        break;\n",
       "                    }\n",
       "                }\n",
       "            }, 500);\n",
       "            "
      ],
      "text/plain": [
       "<IPython.core.display.Javascript object>"
      ]
     },
     "metadata": {},
     "output_type": "display_data"
    }
   ],
   "source": [
    "corpora_filtered_info = [\n",
    "    (key, len(value[\"corpora\"].index)) for key, value in corpus_d.items()\n",
    "]\n",
    "print(corpora_filtered_info)"
   ]
  },
  {
   "cell_type": "code",
   "execution_count": 9,
   "metadata": {},
   "outputs": [
    {
     "name": "stdout",
     "output_type": "stream",
     "text": [
      " docs per month (post filtering):\n",
      " [44293, 6020, 1064, 945, 642, 409, 510, 452, 340, 360, 258, 410, 386, 509, 419, 536, 325, 371, 384, 269, 678, 2212, 3860, 6106, 3651, 1128, 4501, 854]\n",
      "\n",
      " nr docs (post filtering): 81892\n"
     ]
    },
    {
     "data": {
      "application/javascript": [
       "\n",
       "            setTimeout(function() {\n",
       "                var nbb_cell_id = 9;\n",
       "                var nbb_unformatted_code = \"docs_post_filtering = [x[1] for x in corpora_filtered_info]\\nprint(f\\\" docs per month (post filtering):\\\\n {docs_post_filtering}\\\")\\nprint(f\\\"\\\\n nr docs (post filtering): {sum(docs_post_filtering)}\\\")\";\n",
       "                var nbb_formatted_code = \"docs_post_filtering = [x[1] for x in corpora_filtered_info]\\nprint(f\\\" docs per month (post filtering):\\\\n {docs_post_filtering}\\\")\\nprint(f\\\"\\\\n nr docs (post filtering): {sum(docs_post_filtering)}\\\")\";\n",
       "                var nbb_cells = Jupyter.notebook.get_cells();\n",
       "                for (var i = 0; i < nbb_cells.length; ++i) {\n",
       "                    if (nbb_cells[i].input_prompt_number == nbb_cell_id) {\n",
       "                        if (nbb_cells[i].get_text() == nbb_unformatted_code) {\n",
       "                             nbb_cells[i].set_text(nbb_formatted_code);\n",
       "                        }\n",
       "                        break;\n",
       "                    }\n",
       "                }\n",
       "            }, 500);\n",
       "            "
      ],
      "text/plain": [
       "<IPython.core.display.Javascript object>"
      ]
     },
     "metadata": {},
     "output_type": "display_data"
    }
   ],
   "source": [
    "docs_post_filtering = [x[1] for x in corpora_filtered_info]\n",
    "print(f\" docs per month (post filtering):\\n {docs_post_filtering}\")\n",
    "print(f\"\\n nr docs (post filtering): {sum(docs_post_filtering)}\")"
   ]
  },
  {
   "cell_type": "code",
   "execution_count": 10,
   "metadata": {},
   "outputs": [
    {
     "data": {
      "image/png": "[encoded data removed]",
      "text/plain": [
       "<Figure size 432x288 with 1 Axes>"
      ]
     },
     "metadata": {
      "needs_background": "light"
     },
     "output_type": "display_data"
    },
    {
     "data": {
      "application/javascript": [
       "\n",
       "            setTimeout(function() {\n",
       "                var nbb_cell_id = 10;\n",
       "                var nbb_unformatted_code = \"# scatterplot months\\nplt.scatter(range(1, len(docs_post_filtering) + 1), docs_post_filtering)\\nplt.title(\\\"Monthly comments\\\")\\nplt.xlabel(\\\"month\\\")\\nplt.ylabel(\\\"frequency\\\")\\nplt.yscale(\\\"log\\\")\\n\\nplt.savefig(\\\"data/pdf/scatter_comments_post_filtering_tm_log.pdf\\\", bbox_inches=\\\"tight\\\")\\n\\nplt.tight_layout()\\nplt.show()\";\n",
       "                var nbb_formatted_code = \"# scatterplot months\\nplt.scatter(range(1, len(docs_post_filtering) + 1), docs_post_filtering)\\nplt.title(\\\"Monthly comments\\\")\\nplt.xlabel(\\\"month\\\")\\nplt.ylabel(\\\"frequency\\\")\\nplt.yscale(\\\"log\\\")\\n\\nplt.savefig(\\\"data/pdf/scatter_comments_post_filtering_tm_log.pdf\\\", bbox_inches=\\\"tight\\\")\\n\\nplt.tight_layout()\\nplt.show()\";\n",
       "                var nbb_cells = Jupyter.notebook.get_cells();\n",
       "                for (var i = 0; i < nbb_cells.length; ++i) {\n",
       "                    if (nbb_cells[i].input_prompt_number == nbb_cell_id) {\n",
       "                        if (nbb_cells[i].get_text() == nbb_unformatted_code) {\n",
       "                             nbb_cells[i].set_text(nbb_formatted_code);\n",
       "                        }\n",
       "                        break;\n",
       "                    }\n",
       "                }\n",
       "            }, 500);\n",
       "            "
      ],
      "text/plain": [
       "<IPython.core.display.Javascript object>"
      ]
     },
     "metadata": {},
     "output_type": "display_data"
    }
   ],
   "source": [
    "# scatterplot months\n",
    "plt.scatter(range(1, len(docs_post_filtering) + 1), docs_post_filtering)\n",
    "plt.title(\"Monthly comments\")\n",
    "plt.xlabel(\"month\")\n",
    "plt.ylabel(\"frequency\")\n",
    "plt.yscale(\"log\")\n",
    "\n",
    "plt.savefig(\"data/pdf/scatter_comments_post_filtering_tm_log.pdf\", bbox_inches=\"tight\")\n",
    "\n",
    "plt.tight_layout()\n",
    "plt.show()"
   ]
  },
  {
   "cell_type": "code",
   "execution_count": 11,
   "metadata": {},
   "outputs": [
    {
     "data": {
      "text/plain": [
       "[('2019-05', 0.66),\n",
       " ('2019-06', 0.59),\n",
       " ('2019-07', 0.6),\n",
       " ('2019-08', 0.61),\n",
       " ('2019-09', 0.66),\n",
       " ('2019-10', 0.65),\n",
       " ('2019-11', 0.6),\n",
       " ('2019-12', 0.67),\n",
       " ('2020-01', 0.68),\n",
       " ('2020-02', 0.68),\n",
       " ('2020-03', 0.75),\n",
       " ('2020-04', 0.74),\n",
       " ('2020-05', 0.72),\n",
       " ('2020-06', 0.73),\n",
       " ('2020-07', 0.76),\n",
       " ('2020-08', 0.75),\n",
       " ('2020-09', 0.82),\n",
       " ('2020-10', 0.81),\n",
       " ('2020-11', 0.82),\n",
       " ('2020-12', 0.82),\n",
       " ('2021-01', 0.78),\n",
       " ('2021-02', 0.73),\n",
       " ('2021-03', 0.57),\n",
       " ('2021-04', 0.46),\n",
       " ('2021-05', 0.46),\n",
       " ('2021-06', 0.66),\n",
       " ('2021-07', 0.52),\n",
       " ('2021-08', 0.5)]"
      ]
     },
     "execution_count": 11,
     "metadata": {},
     "output_type": "execute_result"
    },
    {
     "data": {
      "application/javascript": [
       "\n",
       "            setTimeout(function() {\n",
       "                var nbb_cell_id = 11;\n",
       "                var nbb_unformatted_code = \"corpora_filtered_percentage = [\\n    (x[0][0], (round(1 - (x[0][1] / x[1][1]), 2)))\\n    for x in list(zip(corpora_filtered_info, corpora_info))\\n]\\ncorpora_filtered_percentage\";\n",
       "                var nbb_formatted_code = \"corpora_filtered_percentage = [\\n    (x[0][0], (round(1 - (x[0][1] / x[1][1]), 2)))\\n    for x in list(zip(corpora_filtered_info, corpora_info))\\n]\\ncorpora_filtered_percentage\";\n",
       "                var nbb_cells = Jupyter.notebook.get_cells();\n",
       "                for (var i = 0; i < nbb_cells.length; ++i) {\n",
       "                    if (nbb_cells[i].input_prompt_number == nbb_cell_id) {\n",
       "                        if (nbb_cells[i].get_text() == nbb_unformatted_code) {\n",
       "                             nbb_cells[i].set_text(nbb_formatted_code);\n",
       "                        }\n",
       "                        break;\n",
       "                    }\n",
       "                }\n",
       "            }, 500);\n",
       "            "
      ],
      "text/plain": [
       "<IPython.core.display.Javascript object>"
      ]
     },
     "metadata": {},
     "output_type": "display_data"
    }
   ],
   "source": [
    "corpora_filtered_percentage = [\n",
    "    (x[0][0], (round(1 - (x[0][1] / x[1][1]), 2)))\n",
    "    for x in list(zip(corpora_filtered_info, corpora_info))\n",
    "]\n",
    "corpora_filtered_percentage"
   ]
  },
  {
   "cell_type": "code",
   "execution_count": 12,
   "metadata": {},
   "outputs": [
    {
     "data": {
      "application/javascript": [
       "\n",
       "            setTimeout(function() {\n",
       "                var nbb_cell_id = 12;\n",
       "                var nbb_unformatted_code = \"corpora_filtered_documents_f = [x[1] for x in corpora_filtered_info]\\ndoc_remain_post_tm_cond_perc = [\\n    x[1] / x[0] for x in zip([x[1] for x in corpora_info], corpora_filtered_documents_f)\\n]\";\n",
       "                var nbb_formatted_code = \"corpora_filtered_documents_f = [x[1] for x in corpora_filtered_info]\\ndoc_remain_post_tm_cond_perc = [\\n    x[1] / x[0] for x in zip([x[1] for x in corpora_info], corpora_filtered_documents_f)\\n]\";\n",
       "                var nbb_cells = Jupyter.notebook.get_cells();\n",
       "                for (var i = 0; i < nbb_cells.length; ++i) {\n",
       "                    if (nbb_cells[i].input_prompt_number == nbb_cell_id) {\n",
       "                        if (nbb_cells[i].get_text() == nbb_unformatted_code) {\n",
       "                             nbb_cells[i].set_text(nbb_formatted_code);\n",
       "                        }\n",
       "                        break;\n",
       "                    }\n",
       "                }\n",
       "            }, 500);\n",
       "            "
      ],
      "text/plain": [
       "<IPython.core.display.Javascript object>"
      ]
     },
     "metadata": {},
     "output_type": "display_data"
    }
   ],
   "source": [
    "corpora_filtered_documents_f = [x[1] for x in corpora_filtered_info]\n",
    "doc_remain_post_tm_cond_perc = [\n",
    "    x[1] / x[0] for x in zip([x[1] for x in corpora_info], corpora_filtered_documents_f)\n",
    "]"
   ]
  },
  {
   "cell_type": "code",
   "execution_count": 13,
   "metadata": {},
   "outputs": [
    {
     "data": {
      "image/png": "[encoded data removed]",
      "text/plain": [
       "<Figure size 432x288 with 2 Axes>"
      ]
     },
     "metadata": {},
     "output_type": "display_data"
    },
    {
     "data": {
      "application/javascript": [
       "\n",
       "            setTimeout(function() {\n",
       "                var nbb_cell_id = 13;\n",
       "                var nbb_unformatted_code = \"data_1 = doc_remain_post_tm_cond_perc  # comments remain %\\nd1_mean = np.mean(data_1)\\ndata_2 = docs_post_filtering # comments remain #\\nd2_mean = np.mean(data_2)\\ndata_x = range(1, len(corpora_filtered_percentage) + 1)\\n\\nfig, ax1 = plt.subplots()\\nplt.rc(\\\"axes\\\", labelsize=12)\\n\\ncolor = \\\"tab:blue\\\"\\nax1.set_ylabel(\\n    \\\"Anzahl verbleibender Dokumente\\\", color=color, labelpad=12\\n)  # we already handled the x-label with ax1\\nax1.plot(data_x, data_2, color=color)\\nax1.tick_params(axis=\\\"y\\\", labelcolor=color)\\nax1.set_yscale(\\\"log\\\")\\n\\nax2 = ax1.twinx()  # instantiate a second axes that shares the same x-axis\\n\\ncolor = \\\"tab:orange\\\"\\nax2.set_xlabel(\\\"Monat\\\")\\nax2.set_ylabel(\\\"Anteil verbleibender Dokumente\\\", color=color, labelpad=12)\\nax2.plot(data_x, data_1, color=color)\\nax2.tick_params(axis=\\\"y\\\", labelcolor=color)\\n\\nax2.set_title(\\n    \\\" >=15 W\\u00f6rter und >=10 einzigartige W\\u00f6rter\\\", fontsize=12, weight=\\\"bold\\\", pad=8\\n)\\n\\nax1.axhline(y=d2_mean, color=\\\"lightblue\\\", linestyle=\\\"-.\\\", label=f\\\"mean: {int(d2_mean)}\\\")\\nax2.axhline(y=d1_mean, color=\\\"wheat\\\", linestyle=\\\"-.\\\", label=f\\\"mean: {round(d1_mean,2)}\\\")\\n\\nax2.legend(loc=\\\"upper center\\\")\\nax1.legend(loc=\\\"upper left\\\")\\n\\nfig.tight_layout()  # otherwise the right y-label is slightly clipped\\nplt.savefig(\\\"data/pdf/remaining_docs_tmcondition.pdf\\\", bbox_inches=\\\"tight\\\")\\nplt.show()\";\n",
       "                var nbb_formatted_code = \"data_1 = doc_remain_post_tm_cond_perc  # comments remain %\\nd1_mean = np.mean(data_1)\\ndata_2 = docs_post_filtering  # comments remain #\\nd2_mean = np.mean(data_2)\\ndata_x = range(1, len(corpora_filtered_percentage) + 1)\\n\\nfig, ax1 = plt.subplots()\\nplt.rc(\\\"axes\\\", labelsize=12)\\n\\ncolor = \\\"tab:blue\\\"\\nax1.set_ylabel(\\n    \\\"Anzahl verbleibender Dokumente\\\", color=color, labelpad=12\\n)  # we already handled the x-label with ax1\\nax1.plot(data_x, data_2, color=color)\\nax1.tick_params(axis=\\\"y\\\", labelcolor=color)\\nax1.set_yscale(\\\"log\\\")\\n\\nax2 = ax1.twinx()  # instantiate a second axes that shares the same x-axis\\n\\ncolor = \\\"tab:orange\\\"\\nax2.set_xlabel(\\\"Monat\\\")\\nax2.set_ylabel(\\\"Anteil verbleibender Dokumente\\\", color=color, labelpad=12)\\nax2.plot(data_x, data_1, color=color)\\nax2.tick_params(axis=\\\"y\\\", labelcolor=color)\\n\\nax2.set_title(\\n    \\\" >=15 W\\u00f6rter und >=10 einzigartige W\\u00f6rter\\\", fontsize=12, weight=\\\"bold\\\", pad=8\\n)\\n\\nax1.axhline(y=d2_mean, color=\\\"lightblue\\\", linestyle=\\\"-.\\\", label=f\\\"mean: {int(d2_mean)}\\\")\\nax2.axhline(y=d1_mean, color=\\\"wheat\\\", linestyle=\\\"-.\\\", label=f\\\"mean: {round(d1_mean,2)}\\\")\\n\\nax2.legend(loc=\\\"upper center\\\")\\nax1.legend(loc=\\\"upper left\\\")\\n\\nfig.tight_layout()  # otherwise the right y-label is slightly clipped\\nplt.savefig(\\\"data/pdf/remaining_docs_tmcondition.pdf\\\", bbox_inches=\\\"tight\\\")\\nplt.show()\";\n",
       "                var nbb_cells = Jupyter.notebook.get_cells();\n",
       "                for (var i = 0; i < nbb_cells.length; ++i) {\n",
       "                    if (nbb_cells[i].input_prompt_number == nbb_cell_id) {\n",
       "                        if (nbb_cells[i].get_text() == nbb_unformatted_code) {\n",
       "                             nbb_cells[i].set_text(nbb_formatted_code);\n",
       "                        }\n",
       "                        break;\n",
       "                    }\n",
       "                }\n",
       "            }, 500);\n",
       "            "
      ],
      "text/plain": [
       "<IPython.core.display.Javascript object>"
      ]
     },
     "metadata": {},
     "output_type": "display_data"
    }
   ],
   "source": [
    "data_1 = doc_remain_post_tm_cond_perc  # comments remain %\n",
    "d1_mean = np.mean(data_1)\n",
    "data_2 = docs_post_filtering  # comments remain #\n",
    "d2_mean = np.mean(data_2)\n",
    "data_x = range(1, len(corpora_filtered_percentage) + 1)\n",
    "\n",
    "fig, ax1 = plt.subplots()\n",
    "plt.rc(\"axes\", labelsize=12)\n",
    "\n",
    "color = \"tab:blue\"\n",
    "ax1.set_ylabel(\n",
    "    \"Anzahl verbleibender Dokumente\", color=color, labelpad=12\n",
    ")  # we already handled the x-label with ax1\n",
    "ax1.plot(data_x, data_2, color=color)\n",
    "ax1.tick_params(axis=\"y\", labelcolor=color)\n",
    "ax1.set_yscale(\"log\")\n",
    "\n",
    "ax2 = ax1.twinx()  # instantiate a second axes that shares the same x-axis\n",
    "\n",
    "color = \"tab:orange\"\n",
    "ax2.set_xlabel(\"Monat\")\n",
    "ax2.set_ylabel(\"Anteil verbleibender Dokumente\", color=color, labelpad=12)\n",
    "ax2.plot(data_x, data_1, color=color)\n",
    "ax2.tick_params(axis=\"y\", labelcolor=color)\n",
    "\n",
    "ax2.set_title(\n",
    "    \" >=15 Wörter und >=10 einzigartige Wörter\", fontsize=12, weight=\"bold\", pad=8\n",
    ")\n",
    "\n",
    "ax1.axhline(y=d2_mean, color=\"lightblue\", linestyle=\"-.\", label=f\"mean: {int(d2_mean)}\")\n",
    "ax2.axhline(y=d1_mean, color=\"wheat\", linestyle=\"-.\", label=f\"mean: {round(d1_mean,2)}\")\n",
    "\n",
    "ax2.legend(loc=\"upper center\")\n",
    "ax1.legend(loc=\"upper left\")\n",
    "\n",
    "fig.tight_layout()  # otherwise the right y-label is slightly clipped\n",
    "plt.savefig(\"data/pdf/remaining_docs_tmcondition.pdf\", bbox_inches=\"tight\")\n",
    "plt.show()"
   ]
  },
  {
   "cell_type": "code",
   "execution_count": 14,
   "metadata": {},
   "outputs": [
    {
     "name": "stdout",
     "output_type": "stream",
     "text": [
      "sum docs: 81892\n",
      "\n",
      "min docs: 258\n",
      "max docs: 44293\n",
      "\n",
      "mean docs: 2924.714285714286\n",
      "median docs: 523.0\n"
     ]
    },
    {
     "data": {
      "application/javascript": [
       "\n",
       "            setTimeout(function() {\n",
       "                var nbb_cell_id = 14;\n",
       "                var nbb_unformatted_code = \"corpora_filtered_documents_f = [x[1] for x in corpora_filtered_info]\\ncorpora_filtered_documents_sum = sum(corpora_filtered_documents_f)\\ncorpora_filtered_documents_min = min(corpora_filtered_documents_f)\\ncorpora_filtered_documents_max = max(corpora_filtered_documents_f)\\ncorpora_filtered_documents_mean = np.mean(corpora_filtered_documents_f)\\ncorpora_filtered_documents_median = np.median(corpora_filtered_documents_f)\\nprint(f\\\"sum docs: {corpora_filtered_documents_sum}\\\")\\nprint(\\\"\\\")\\nprint(f\\\"min docs: {corpora_filtered_documents_min}\\\")\\nprint(f\\\"max docs: {corpora_filtered_documents_max}\\\")\\nprint(\\\"\\\")\\nprint(f\\\"mean docs: {corpora_filtered_documents_mean}\\\")\\nprint(f\\\"median docs: {corpora_filtered_documents_median}\\\")\";\n",
       "                var nbb_formatted_code = \"corpora_filtered_documents_f = [x[1] for x in corpora_filtered_info]\\ncorpora_filtered_documents_sum = sum(corpora_filtered_documents_f)\\ncorpora_filtered_documents_min = min(corpora_filtered_documents_f)\\ncorpora_filtered_documents_max = max(corpora_filtered_documents_f)\\ncorpora_filtered_documents_mean = np.mean(corpora_filtered_documents_f)\\ncorpora_filtered_documents_median = np.median(corpora_filtered_documents_f)\\nprint(f\\\"sum docs: {corpora_filtered_documents_sum}\\\")\\nprint(\\\"\\\")\\nprint(f\\\"min docs: {corpora_filtered_documents_min}\\\")\\nprint(f\\\"max docs: {corpora_filtered_documents_max}\\\")\\nprint(\\\"\\\")\\nprint(f\\\"mean docs: {corpora_filtered_documents_mean}\\\")\\nprint(f\\\"median docs: {corpora_filtered_documents_median}\\\")\";\n",
       "                var nbb_cells = Jupyter.notebook.get_cells();\n",
       "                for (var i = 0; i < nbb_cells.length; ++i) {\n",
       "                    if (nbb_cells[i].input_prompt_number == nbb_cell_id) {\n",
       "                        if (nbb_cells[i].get_text() == nbb_unformatted_code) {\n",
       "                             nbb_cells[i].set_text(nbb_formatted_code);\n",
       "                        }\n",
       "                        break;\n",
       "                    }\n",
       "                }\n",
       "            }, 500);\n",
       "            "
      ],
      "text/plain": [
       "<IPython.core.display.Javascript object>"
      ]
     },
     "metadata": {},
     "output_type": "display_data"
    }
   ],
   "source": [
    "corpora_filtered_documents_f = [x[1] for x in corpora_filtered_info]\n",
    "corpora_filtered_documents_sum = sum(corpora_filtered_documents_f)\n",
    "corpora_filtered_documents_min = min(corpora_filtered_documents_f)\n",
    "corpora_filtered_documents_max = max(corpora_filtered_documents_f)\n",
    "corpora_filtered_documents_mean = np.mean(corpora_filtered_documents_f)\n",
    "corpora_filtered_documents_median = np.median(corpora_filtered_documents_f)\n",
    "print(f\"sum docs: {corpora_filtered_documents_sum}\")\n",
    "print(\"\")\n",
    "print(f\"min docs: {corpora_filtered_documents_min}\")\n",
    "print(f\"max docs: {corpora_filtered_documents_max}\")\n",
    "print(\"\")\n",
    "print(f\"mean docs: {corpora_filtered_documents_mean}\")\n",
    "print(f\"median docs: {corpora_filtered_documents_median}\")"
   ]
  },
  {
   "cell_type": "code",
   "execution_count": 15,
   "metadata": {},
   "outputs": [
    {
     "data": {
      "application/javascript": [
       "\n",
       "            setTimeout(function() {\n",
       "                var nbb_cell_id = 15;\n",
       "                var nbb_unformatted_code = \"for key, value in corpus_d.items():\\n    value[\\\"tfidf_vectorizer\\\"] = TfidfVectorizer(stop_words=sw)\\n    value[\\\"tfidf_wm\\\"] = value[\\\"tfidf_vectorizer\\\"].fit_transform(\\n        value[\\\"corpora\\\"].comment\\n    )\\n    value[\\\"tfidf\\\"] = pd.DataFrame(\\n        value[\\\"tfidf_wm\\\"].toarray(),\\n        columns=value[\\\"tfidf_vectorizer\\\"].get_feature_names(),\\n    )\\n    value[\\\"tfidf\\\"].index = value[\\\"corpora\\\"].index\\n    value[\\\"tfidf\\\"] = value[\\\"tfidf\\\"].transpose()\";\n",
       "                var nbb_formatted_code = \"for key, value in corpus_d.items():\\n    value[\\\"tfidf_vectorizer\\\"] = TfidfVectorizer(stop_words=sw)\\n    value[\\\"tfidf_wm\\\"] = value[\\\"tfidf_vectorizer\\\"].fit_transform(\\n        value[\\\"corpora\\\"].comment\\n    )\\n    value[\\\"tfidf\\\"] = pd.DataFrame(\\n        value[\\\"tfidf_wm\\\"].toarray(),\\n        columns=value[\\\"tfidf_vectorizer\\\"].get_feature_names(),\\n    )\\n    value[\\\"tfidf\\\"].index = value[\\\"corpora\\\"].index\\n    value[\\\"tfidf\\\"] = value[\\\"tfidf\\\"].transpose()\";\n",
       "                var nbb_cells = Jupyter.notebook.get_cells();\n",
       "                for (var i = 0; i < nbb_cells.length; ++i) {\n",
       "                    if (nbb_cells[i].input_prompt_number == nbb_cell_id) {\n",
       "                        if (nbb_cells[i].get_text() == nbb_unformatted_code) {\n",
       "                             nbb_cells[i].set_text(nbb_formatted_code);\n",
       "                        }\n",
       "                        break;\n",
       "                    }\n",
       "                }\n",
       "            }, 500);\n",
       "            "
      ],
      "text/plain": [
       "<IPython.core.display.Javascript object>"
      ]
     },
     "metadata": {},
     "output_type": "display_data"
    }
   ],
   "source": [
    "for key, value in corpus_d.items():\n",
    "    value[\"tfidf_vectorizer\"] = TfidfVectorizer(stop_words=sw)\n",
    "    value[\"tfidf_wm\"] = value[\"tfidf_vectorizer\"].fit_transform(\n",
    "        value[\"corpora\"].comment\n",
    "    )\n",
    "    value[\"tfidf\"] = pd.DataFrame(\n",
    "        value[\"tfidf_wm\"].toarray(),\n",
    "        columns=value[\"tfidf_vectorizer\"].get_feature_names(),\n",
    "    )\n",
    "    value[\"tfidf\"].index = value[\"corpora\"].index\n",
    "    value[\"tfidf\"] = value[\"tfidf\"].transpose()"
   ]
  },
  {
   "cell_type": "code",
   "execution_count": 17,
   "metadata": {},
   "outputs": [
    {
     "data": {
      "application/javascript": [
       "\n",
       "            setTimeout(function() {\n",
       "                var nbb_cell_id = 17;\n",
       "                var nbb_unformatted_code = \"for key, value in corpus_d.items():\\n    value[\\\"dictionary\\\"] = Dictionary(value[\\\"texts\\\"])\\n    value[\\\"sparse_counts\\\"] = scipy.sparse.csr_matrix(value[\\\"tfidf\\\"])\\n    value[\\\"corpus_sparse\\\"] = matutils.Sparse2Corpus(value[\\\"sparse_counts\\\"])\\n    value[\\\"id2word\\\"] = dict(\\n        (v, k) for k, v in value[\\\"tfidf_vectorizer\\\"].vocabulary_.items()\\n    )\";\n",
       "                var nbb_formatted_code = \"for key, value in corpus_d.items():\\n    value[\\\"dictionary\\\"] = Dictionary(value[\\\"texts\\\"])\\n    value[\\\"sparse_counts\\\"] = scipy.sparse.csr_matrix(value[\\\"tfidf\\\"])\\n    value[\\\"corpus_sparse\\\"] = matutils.Sparse2Corpus(value[\\\"sparse_counts\\\"])\\n    value[\\\"id2word\\\"] = dict(\\n        (v, k) for k, v in value[\\\"tfidf_vectorizer\\\"].vocabulary_.items()\\n    )\";\n",
       "                var nbb_cells = Jupyter.notebook.get_cells();\n",
       "                for (var i = 0; i < nbb_cells.length; ++i) {\n",
       "                    if (nbb_cells[i].input_prompt_number == nbb_cell_id) {\n",
       "                        if (nbb_cells[i].get_text() == nbb_unformatted_code) {\n",
       "                             nbb_cells[i].set_text(nbb_formatted_code);\n",
       "                        }\n",
       "                        break;\n",
       "                    }\n",
       "                }\n",
       "            }, 500);\n",
       "            "
      ],
      "text/plain": [
       "<IPython.core.display.Javascript object>"
      ]
     },
     "metadata": {},
     "output_type": "display_data"
    }
   ],
   "source": [
    "for key, value in corpus_d.items():\n",
    "    value[\"dictionary\"] = Dictionary(value[\"texts\"])\n",
    "    value[\"sparse_counts\"] = scipy.sparse.csr_matrix(value[\"tfidf\"])\n",
    "    value[\"corpus_sparse\"] = matutils.Sparse2Corpus(value[\"sparse_counts\"])\n",
    "    value[\"id2word\"] = dict(\n",
    "        (v, k) for k, v in value[\"tfidf_vectorizer\"].vocabulary_.items()\n",
    "    )"
   ]
  },
  {
   "cell_type": "markdown",
   "metadata": {},
   "source": [
    "###  evaluate number of topics for each month"
   ]
  },
  {
   "cell_type": "code",
   "execution_count": 18,
   "metadata": {},
   "outputs": [
    {
     "name": "stdout",
     "output_type": "stream",
     "text": [
      "\n",
      "processing: 2021-08\n"
     ]
    },
    {
     "data": {
      "application/javascript": [
       "\n",
       "            setTimeout(function() {\n",
       "                var nbb_cell_id = 18;\n",
       "                var nbb_unformatted_code = \"start = 3\\nlimit = 8\\nstep = 1\\nprint(\\\"\\\")\\n\\nfor key, value in corpus_d.items():\\n    value[\\\"lda_models\\\"] = []\\n    print(f\\\"processing: {key}\\\", end=\\\"\\\\r\\\")\\n\\n    for num_topics in range(start, limit, step):\\n        # list of tuple of model,coherence\\n        lda_model = models.LdaModel(\\n            corpus=value[\\\"corpus_sparse\\\"],\\n            id2word=value[\\\"id2word\\\"],\\n            num_topics=num_topics,\\n            random_state=100,\\n            update_every=1,\\n            passes=10,\\n            alpha=\\\"auto\\\",\\n        )\\n        coherence_model = CoherenceModel(\\n            model=lda_model,\\n            texts=value[\\\"texts\\\"],\\n            dictionary=value[\\\"dictionary\\\"],\\n        )\\n        value[\\\"lda_models\\\"].append((lda_model, coherence_model.get_coherence()))\\n\\nprint(\\\"\\\")\";\n",
       "                var nbb_formatted_code = \"start = 3\\nlimit = 8\\nstep = 1\\nprint(\\\"\\\")\\n\\nfor key, value in corpus_d.items():\\n    value[\\\"lda_models\\\"] = []\\n    print(f\\\"processing: {key}\\\", end=\\\"\\\\r\\\")\\n\\n    for num_topics in range(start, limit, step):\\n        # list of tuple of model,coherence\\n        lda_model = models.LdaModel(\\n            corpus=value[\\\"corpus_sparse\\\"],\\n            id2word=value[\\\"id2word\\\"],\\n            num_topics=num_topics,\\n            random_state=100,\\n            update_every=1,\\n            passes=10,\\n            alpha=\\\"auto\\\",\\n        )\\n        coherence_model = CoherenceModel(\\n            model=lda_model,\\n            texts=value[\\\"texts\\\"],\\n            dictionary=value[\\\"dictionary\\\"],\\n        )\\n        value[\\\"lda_models\\\"].append((lda_model, coherence_model.get_coherence()))\\n\\nprint(\\\"\\\")\";\n",
       "                var nbb_cells = Jupyter.notebook.get_cells();\n",
       "                for (var i = 0; i < nbb_cells.length; ++i) {\n",
       "                    if (nbb_cells[i].input_prompt_number == nbb_cell_id) {\n",
       "                        if (nbb_cells[i].get_text() == nbb_unformatted_code) {\n",
       "                             nbb_cells[i].set_text(nbb_formatted_code);\n",
       "                        }\n",
       "                        break;\n",
       "                    }\n",
       "                }\n",
       "            }, 500);\n",
       "            "
      ],
      "text/plain": [
       "<IPython.core.display.Javascript object>"
      ]
     },
     "metadata": {},
     "output_type": "display_data"
    }
   ],
   "source": [
    "start = 3\n",
    "limit = 8\n",
    "step = 1\n",
    "print(\"\")\n",
    "\n",
    "for key, value in corpus_d.items():\n",
    "    value[\"lda_models\"] = []\n",
    "    print(f\"processing: {key}\", end=\"\\r\")\n",
    "\n",
    "    for num_topics in range(start, limit, step):\n",
    "        # list of tuple of model,coherence\n",
    "        lda_model = models.LdaModel(\n",
    "            corpus=value[\"corpus_sparse\"],\n",
    "            id2word=value[\"id2word\"],\n",
    "            num_topics=num_topics,\n",
    "            random_state=100,\n",
    "            update_every=1,\n",
    "            passes=10,\n",
    "            alpha=\"auto\",\n",
    "        )\n",
    "        coherence_model = CoherenceModel(\n",
    "            model=lda_model,\n",
    "            texts=value[\"texts\"],\n",
    "            dictionary=value[\"dictionary\"],\n",
    "        )\n",
    "        value[\"lda_models\"].append((lda_model, coherence_model.get_coherence()))\n",
    "\n",
    "print(\"\")"
   ]
  },
  {
   "cell_type": "code",
   "execution_count": 19,
   "metadata": {},
   "outputs": [
    {
     "name": "stdout",
     "output_type": "stream",
     "text": [
      "## 2019-05\n",
      "[('3 Topics', 0.8005875913529067), ('4 Topics', 0.7887097003467255), ('5 Topics', 0.766768569841263), ('6 Topics', 0.7579447371734465), ('7 Topics', 0.778681489445793)]\n",
      "\n",
      "\n",
      "\n",
      "## 2019-06\n",
      "[('3 Topics', 0.7922839569636754), ('4 Topics', 0.7688869634338928), ('5 Topics', 0.7674891497729235), ('6 Topics', 0.7819885303288928), ('7 Topics', 0.7607976028834872)]\n",
      "\n",
      "\n",
      "\n",
      "## 2019-07\n",
      "[('3 Topics', 0.8286219671979995), ('4 Topics', 0.8108566309446488), ('5 Topics', 0.8250522640078752), ('6 Topics', 0.7901545850330575), ('7 Topics', 0.799485158668154)]\n",
      "\n",
      "\n",
      "\n",
      "## 2019-08\n",
      "[('3 Topics', 0.8103392290245587), ('4 Topics', 0.8053123076535191), ('5 Topics', 0.7932664171883504), ('6 Topics', 0.8014150017698906), ('7 Topics', 0.7909415551032485)]\n",
      "\n",
      "\n",
      "\n",
      "## 2019-09\n",
      "[('3 Topics', 0.7580041026050832), ('4 Topics', 0.7639548191374125), ('5 Topics', 0.7784683347214779), ('6 Topics', 0.7577477210000252), ('7 Topics', 0.7659963498889726)]\n",
      "\n",
      "\n",
      "\n",
      "## 2019-10\n",
      "[('3 Topics', 0.7883811793456434), ('4 Topics', 0.7970995136702819), ('5 Topics', 0.7665933098852947), ('6 Topics', 0.7934051827946308), ('7 Topics', 0.7731642479138453)]\n",
      "\n",
      "\n",
      "\n",
      "## 2019-11\n",
      "[('3 Topics', 0.7856263651498109), ('4 Topics', 0.793590649315543), ('5 Topics', 0.798987779115789), ('6 Topics', 0.779102522330679), ('7 Topics', 0.7851964908938537)]\n",
      "\n",
      "\n",
      "\n",
      "## 2019-12\n",
      "[('3 Topics', 0.7948842873758172), ('4 Topics', 0.8013267667768351), ('5 Topics', 0.7923575841338045), ('6 Topics', 0.7917899385683058), ('7 Topics', 0.7861023146837142)]\n",
      "\n",
      "\n",
      "\n",
      "## 2020-01\n",
      "[('3 Topics', 0.8061047087714669), ('4 Topics', 0.8046247707723142), ('5 Topics', 0.8090431933249516), ('6 Topics', 0.8163854963829703), ('7 Topics', 0.804567448233918)]\n",
      "\n",
      "\n",
      "\n",
      "## 2020-02\n",
      "[('3 Topics', 0.770034171332744), ('4 Topics', 0.7508091959373939), ('5 Topics', 0.7603353600506078), ('6 Topics', 0.7436874033208803), ('7 Topics', 0.7547299704727166)]\n",
      "\n",
      "\n",
      "\n",
      "## 2020-03\n",
      "[('3 Topics', 0.8181749146984285), ('4 Topics', 0.8098609043070412), ('5 Topics', 0.8006749852167927), ('6 Topics', 0.8041382557813858), ('7 Topics', 0.80691423861608)]\n",
      "\n",
      "\n",
      "\n",
      "## 2020-04\n",
      "[('3 Topics', 0.8184834219262255), ('4 Topics', 0.8109703827277064), ('5 Topics', 0.8065822073764174), ('6 Topics', 0.7913699676850298), ('7 Topics', 0.7983991431691645)]\n",
      "\n",
      "\n",
      "\n",
      "## 2020-05\n",
      "[('3 Topics', 0.8258408113355723), ('4 Topics', 0.8220440067532495), ('5 Topics', 0.8141257872394911), ('6 Topics', 0.8182416238278702), ('7 Topics', 0.8078547813799786)]\n",
      "\n",
      "\n",
      "\n",
      "## 2020-06\n",
      "[('3 Topics', 0.7719380009722805), ('4 Topics', 0.7776270028508628), ('5 Topics', 0.7717783364858011), ('6 Topics', 0.7640611067144), ('7 Topics', 0.7705636947308993)]\n",
      "\n",
      "\n",
      "\n",
      "## 2020-07\n",
      "[('3 Topics', 0.7399244962814532), ('4 Topics', 0.7332431853683282), ('5 Topics', 0.7371394438442835), ('6 Topics', 0.7249424123547691), ('7 Topics', 0.7305647400105247)]\n",
      "\n",
      "\n",
      "\n",
      "## 2020-08\n",
      "[('3 Topics', 0.7582687968178696), ('4 Topics', 0.7486787505845035), ('5 Topics', 0.7518924150331042), ('6 Topics', 0.7453948495767837), ('7 Topics', 0.7300976128963216)]\n",
      "\n",
      "\n",
      "\n",
      "## 2020-09\n",
      "[('3 Topics', 0.797492366094489), ('4 Topics', 0.7843664837730856), ('5 Topics', 0.7819318430919886), ('6 Topics', 0.7782788643105384), ('7 Topics', 0.7874995915841778)]\n",
      "\n",
      "\n",
      "\n",
      "## 2020-10\n",
      "[('3 Topics', 0.7419299754194948), ('4 Topics', 0.7670234880151428), ('5 Topics', 0.7732855160967038), ('6 Topics', 0.7573499097769778), ('7 Topics', 0.7434214948978227)]\n",
      "\n",
      "\n",
      "\n",
      "## 2020-11\n",
      "[('3 Topics', 0.7231669184927249), ('4 Topics', 0.7227473303269629), ('5 Topics', 0.7338954922983586), ('6 Topics', 0.7369454187573306), ('7 Topics', 0.7384511363007303)]\n",
      "\n",
      "\n",
      "\n",
      "## 2020-12\n",
      "[('3 Topics', 0.8113149037792454), ('4 Topics', 0.794752871866997), ('5 Topics', 0.7932962194770881), ('6 Topics', 0.7850559929769686), ('7 Topics', 0.7860171537417209)]\n",
      "\n",
      "\n",
      "\n",
      "## 2021-01\n",
      "[('3 Topics', 0.7773203029491578), ('4 Topics', 0.7693576612713122), ('5 Topics', 0.7841385866422901), ('6 Topics', 0.7633035485481772), ('7 Topics', 0.7712157665065675)]\n",
      "\n",
      "\n",
      "\n",
      "## 2021-02\n",
      "[('3 Topics', 0.7773811438743398), ('4 Topics', 0.7849124772093017), ('5 Topics', 0.80496215012164), ('6 Topics', 0.7923490364987403), ('7 Topics', 0.7886081037681291)]\n",
      "\n",
      "\n",
      "\n",
      "## 2021-03\n",
      "[('3 Topics', 0.7994426536766279), ('4 Topics', 0.7878175680392312), ('5 Topics', 0.7721272906202387), ('6 Topics', 0.7718834808380364), ('7 Topics', 0.7594598688521612)]\n",
      "\n",
      "\n",
      "\n",
      "## 2021-04\n",
      "[('3 Topics', 0.7612360636949198), ('4 Topics', 0.7600344357879859), ('5 Topics', 0.7704784386805803), ('6 Topics', 0.7754726356007682), ('7 Topics', 0.7578994767241595)]\n",
      "\n",
      "\n",
      "\n",
      "## 2021-05\n",
      "[('3 Topics', 0.7720045780923476), ('4 Topics', 0.762327561296767), ('5 Topics', 0.7674927112414967), ('6 Topics', 0.7641847374196596), ('7 Topics', 0.7631932788942802)]\n",
      "\n",
      "\n",
      "\n",
      "## 2021-06\n",
      "[('3 Topics', 0.8014271069209821), ('4 Topics', 0.7975814930019411), ('5 Topics', 0.7917331266747548), ('6 Topics', 0.7844303958541596), ('7 Topics', 0.7719905522470071)]\n",
      "\n",
      "\n",
      "\n",
      "## 2021-07\n",
      "[('3 Topics', 0.8165169605031751), ('4 Topics', 0.7869911883035234), ('5 Topics', 0.7714340582784782), ('6 Topics', 0.77123724531824), ('7 Topics', 0.755997289431401)]\n",
      "\n",
      "\n",
      "\n",
      "## 2021-08\n",
      "[('3 Topics', 0.7630653263570099), ('4 Topics', 0.7509606944820744), ('5 Topics', 0.7386153471449903), ('6 Topics', 0.7299094493206094), ('7 Topics', 0.7269560645272813)]\n",
      "\n",
      "\n",
      "\n"
     ]
    },
    {
     "data": {
      "application/javascript": [
       "\n",
       "            setTimeout(function() {\n",
       "                var nbb_cell_id = 19;\n",
       "                var nbb_unformatted_code = \"for key, value in corpus_d.items():\\n    print(f\\\"## {key}\\\")\\n    lda_coherence_values = [x[1] for x in value[\\\"lda_models\\\"]]\\n    num_topics_lda = list(range(start, limit, step))\\n\\n    assert len(num_topics_lda) == len(lda_coherence_values)\\n\\n    print(list(zip([str(x) + \\\" Topics\\\" for x in num_topics_lda], lda_coherence_values)))\\n    print(\\\"\\\\n\\\\n\\\")\";\n",
       "                var nbb_formatted_code = \"for key, value in corpus_d.items():\\n    print(f\\\"## {key}\\\")\\n    lda_coherence_values = [x[1] for x in value[\\\"lda_models\\\"]]\\n    num_topics_lda = list(range(start, limit, step))\\n\\n    assert len(num_topics_lda) == len(lda_coherence_values)\\n\\n    print(list(zip([str(x) + \\\" Topics\\\" for x in num_topics_lda], lda_coherence_values)))\\n    print(\\\"\\\\n\\\\n\\\")\";\n",
       "                var nbb_cells = Jupyter.notebook.get_cells();\n",
       "                for (var i = 0; i < nbb_cells.length; ++i) {\n",
       "                    if (nbb_cells[i].input_prompt_number == nbb_cell_id) {\n",
       "                        if (nbb_cells[i].get_text() == nbb_unformatted_code) {\n",
       "                             nbb_cells[i].set_text(nbb_formatted_code);\n",
       "                        }\n",
       "                        break;\n",
       "                    }\n",
       "                }\n",
       "            }, 500);\n",
       "            "
      ],
      "text/plain": [
       "<IPython.core.display.Javascript object>"
      ]
     },
     "metadata": {},
     "output_type": "display_data"
    }
   ],
   "source": [
    "for key, value in corpus_d.items():\n",
    "    print(f\"## {key}\")\n",
    "    lda_coherence_values = [x[1] for x in value[\"lda_models\"]]\n",
    "    num_topics_lda = list(range(start, limit, step))\n",
    "\n",
    "    assert len(num_topics_lda) == len(lda_coherence_values)\n",
    "\n",
    "    print(list(zip([str(x) + \" Topics\" for x in num_topics_lda], lda_coherence_values)))\n",
    "    print(\"\\n\\n\")"
   ]
  },
  {
   "cell_type": "code",
   "execution_count": 20,
   "metadata": {},
   "outputs": [
    {
     "name": "stdout",
     "output_type": "stream",
     "text": [
      "nr topics with max coherence per month: \n",
      "\n",
      "2019-05   3  0.8005875913529067\n",
      "2019-06   3  0.7922839569636754\n",
      "2019-07   3  0.8286219671979995\n",
      "2019-08   3  0.8103392290245587\n",
      "2019-09   5  0.7784683347214779\n",
      "2019-10   4  0.7970995136702819\n",
      "2019-11   5  0.798987779115789\n",
      "2019-12   4  0.8013267667768351\n",
      "2020-01   6  0.8163854963829703\n",
      "2020-02   3  0.770034171332744\n",
      "2020-03   3  0.8181749146984285\n",
      "2020-04   3  0.8184834219262255\n",
      "2020-05   3  0.8258408113355723\n",
      "2020-06   4  0.7776270028508628\n",
      "2020-07   3  0.7399244962814532\n",
      "2020-08   3  0.7582687968178696\n",
      "2020-09   3  0.797492366094489\n",
      "2020-10   5  0.7732855160967038\n",
      "2020-11   7  0.7384511363007303\n",
      "2020-12   3  0.8113149037792454\n",
      "2021-01   5  0.7841385866422901\n",
      "2021-02   5  0.80496215012164\n",
      "2021-03   3  0.7994426536766279\n",
      "2021-04   6  0.7754726356007682\n",
      "2021-05   3  0.7720045780923476\n",
      "2021-06   3  0.8014271069209821\n",
      "2021-07   3  0.8165169605031751\n",
      "2021-08   3  0.7630653263570099\n"
     ]
    },
    {
     "data": {
      "application/javascript": [
       "\n",
       "            setTimeout(function() {\n",
       "                var nbb_cell_id = 20;\n",
       "                var nbb_unformatted_code = \"# get *best* 28 models\\nnum_topics_max_coherence = []\\n\\nfor key, value in corpus_d.items():\\n    max_coherence = max([x[1] for x in value[\\\"lda_models\\\"]])\\n    nr_topics = None\\n    for i, t in enumerate(value[\\\"lda_models\\\"]):\\n        if t[1] == max_coherence:\\n            nr_topics = start + step * i\\n    num_topics_max_coherence.append((key, nr_topics, max_coherence))\\n\\nassert len(num_topics_max_coherence) == 28\\nprint(f\\\"nr topics with max coherence per month: \\\\n\\\")\\nfor t in num_topics_max_coherence:\\n    print(f\\\"{t[0]}  %2s  {t[2]}\\\" % t[1])\";\n",
       "                var nbb_formatted_code = \"# get *best* 28 models\\nnum_topics_max_coherence = []\\n\\nfor key, value in corpus_d.items():\\n    max_coherence = max([x[1] for x in value[\\\"lda_models\\\"]])\\n    nr_topics = None\\n    for i, t in enumerate(value[\\\"lda_models\\\"]):\\n        if t[1] == max_coherence:\\n            nr_topics = start + step * i\\n    num_topics_max_coherence.append((key, nr_topics, max_coherence))\\n\\nassert len(num_topics_max_coherence) == 28\\nprint(f\\\"nr topics with max coherence per month: \\\\n\\\")\\nfor t in num_topics_max_coherence:\\n    print(f\\\"{t[0]}  %2s  {t[2]}\\\" % t[1])\";\n",
       "                var nbb_cells = Jupyter.notebook.get_cells();\n",
       "                for (var i = 0; i < nbb_cells.length; ++i) {\n",
       "                    if (nbb_cells[i].input_prompt_number == nbb_cell_id) {\n",
       "                        if (nbb_cells[i].get_text() == nbb_unformatted_code) {\n",
       "                             nbb_cells[i].set_text(nbb_formatted_code);\n",
       "                        }\n",
       "                        break;\n",
       "                    }\n",
       "                }\n",
       "            }, 500);\n",
       "            "
      ],
      "text/plain": [
       "<IPython.core.display.Javascript object>"
      ]
     },
     "metadata": {},
     "output_type": "display_data"
    }
   ],
   "source": [
    "# get *best* 28 models\n",
    "num_topics_max_coherence = []\n",
    "\n",
    "for key, value in corpus_d.items():\n",
    "    max_coherence = max([x[1] for x in value[\"lda_models\"]])\n",
    "    nr_topics = None\n",
    "    for i, t in enumerate(value[\"lda_models\"]):\n",
    "        if t[1] == max_coherence:\n",
    "            nr_topics = start + step * i\n",
    "    num_topics_max_coherence.append((key, nr_topics, max_coherence))\n",
    "\n",
    "assert len(num_topics_max_coherence) == 28\n",
    "print(f\"nr topics with max coherence per month: \\n\")\n",
    "for t in num_topics_max_coherence:\n",
    "    print(f\"{t[0]}  %2s  {t[2]}\" % t[1])"
   ]
  },
  {
   "cell_type": "code",
   "execution_count": 21,
   "metadata": {},
   "outputs": [
    {
     "name": "stdout",
     "output_type": "stream",
     "text": [
      "nr topics mean: 3.8214285714285716\n",
      "nr topics median: 3.0\n"
     ]
    },
    {
     "data": {
      "application/javascript": [
       "\n",
       "            setTimeout(function() {\n",
       "                var nbb_cell_id = 21;\n",
       "                var nbb_unformatted_code = \"print(f\\\"nr topics mean: {np.mean([x[1] for x in num_topics_max_coherence])}\\\")\\nprint(f\\\"nr topics median: {np.median([x[1] for x in num_topics_max_coherence])}\\\")\";\n",
       "                var nbb_formatted_code = \"print(f\\\"nr topics mean: {np.mean([x[1] for x in num_topics_max_coherence])}\\\")\\nprint(f\\\"nr topics median: {np.median([x[1] for x in num_topics_max_coherence])}\\\")\";\n",
       "                var nbb_cells = Jupyter.notebook.get_cells();\n",
       "                for (var i = 0; i < nbb_cells.length; ++i) {\n",
       "                    if (nbb_cells[i].input_prompt_number == nbb_cell_id) {\n",
       "                        if (nbb_cells[i].get_text() == nbb_unformatted_code) {\n",
       "                             nbb_cells[i].set_text(nbb_formatted_code);\n",
       "                        }\n",
       "                        break;\n",
       "                    }\n",
       "                }\n",
       "            }, 500);\n",
       "            "
      ],
      "text/plain": [
       "<IPython.core.display.Javascript object>"
      ]
     },
     "metadata": {},
     "output_type": "display_data"
    }
   ],
   "source": [
    "print(f\"nr topics mean: {np.mean([x[1] for x in num_topics_max_coherence])}\")\n",
    "print(f\"nr topics median: {np.median([x[1] for x in num_topics_max_coherence])}\")"
   ]
  },
  {
   "cell_type": "markdown",
   "metadata": {},
   "source": [
    "### evaluate best equal number of topics"
   ]
  },
  {
   "cell_type": "code",
   "execution_count": 22,
   "metadata": {},
   "outputs": [
    {
     "name": "stdout",
     "output_type": "stream",
     "text": [
      "pre coherence mean: 0.7917867203798449\n",
      "pre coherence median: 0.7982400726051391\n"
     ]
    },
    {
     "data": {
      "application/javascript": [
       "\n",
       "            setTimeout(function() {\n",
       "                var nbb_cell_id = 22;\n",
       "                var nbb_unformatted_code = \"print(f\\\"pre coherence mean: {np.mean([x[2] for x in num_topics_max_coherence])}\\\")\\nprint(f\\\"pre coherence median: {np.median([x[2] for x in num_topics_max_coherence])}\\\")\";\n",
       "                var nbb_formatted_code = \"print(f\\\"pre coherence mean: {np.mean([x[2] for x in num_topics_max_coherence])}\\\")\\nprint(f\\\"pre coherence median: {np.median([x[2] for x in num_topics_max_coherence])}\\\")\";\n",
       "                var nbb_cells = Jupyter.notebook.get_cells();\n",
       "                for (var i = 0; i < nbb_cells.length; ++i) {\n",
       "                    if (nbb_cells[i].input_prompt_number == nbb_cell_id) {\n",
       "                        if (nbb_cells[i].get_text() == nbb_unformatted_code) {\n",
       "                             nbb_cells[i].set_text(nbb_formatted_code);\n",
       "                        }\n",
       "                        break;\n",
       "                    }\n",
       "                }\n",
       "            }, 500);\n",
       "            "
      ],
      "text/plain": [
       "<IPython.core.display.Javascript object>"
      ]
     },
     "metadata": {},
     "output_type": "display_data"
    }
   ],
   "source": [
    "print(f\"pre coherence mean: {np.mean([x[2] for x in num_topics_max_coherence])}\")\n",
    "print(f\"pre coherence median: {np.median([x[2] for x in num_topics_max_coherence])}\")"
   ]
  },
  {
   "cell_type": "code",
   "execution_count": 23,
   "metadata": {},
   "outputs": [
    {
     "name": "stdout",
     "output_type": "stream",
     "text": [
      "[(3, 0.7860641536073588), (4, 0.7805881715698068), (5, 0.7794266399145297), (6, 0.7740060732094006), (7, 0.7712416648737899)]\n"
     ]
    },
    {
     "data": {
      "application/javascript": [
       "\n",
       "            setTimeout(function() {\n",
       "                var nbb_cell_id = 23;\n",
       "                var nbb_unformatted_code = \"d_lda_model_stats_equal_nr_topics = {}\\n\\nfor nr_topics_for_model in range(start, limit, step):\\n    topic_idx = int((nr_topics_for_model - start) / step)\\n    for i, (key, value) in enumerate(corpus_d.items()):\\n        if nr_topics_for_model not in d_lda_model_stats_equal_nr_topics:\\n            d_lda_model_stats_equal_nr_topics[nr_topics_for_model] = []\\n        d_lda_model_stats_equal_nr_topics[nr_topics_for_model].append(\\n            (\\n                key,\\n                nr_topics_for_model,\\n                value[\\\"lda_models\\\"][topic_idx][1],\\n            )\\n        )\\n    assert len(d_lda_model_stats_equal_nr_topics[nr_topics_for_model]) == 28\\n\\nnum_topics_mean_coherence = []\\n\\nfor key, value in d_lda_model_stats_equal_nr_topics.items():\\n    coherence_values = [x[2] for x in value]\\n    num_topics_mean_coherence.append((key, np.mean(coherence_values)))\\n\\nnum_topics_mean_coherence.sort(key=lambda t: t[1], reverse=True)\\nprint(num_topics_mean_coherence)\";\n",
       "                var nbb_formatted_code = \"d_lda_model_stats_equal_nr_topics = {}\\n\\nfor nr_topics_for_model in range(start, limit, step):\\n    topic_idx = int((nr_topics_for_model - start) / step)\\n    for i, (key, value) in enumerate(corpus_d.items()):\\n        if nr_topics_for_model not in d_lda_model_stats_equal_nr_topics:\\n            d_lda_model_stats_equal_nr_topics[nr_topics_for_model] = []\\n        d_lda_model_stats_equal_nr_topics[nr_topics_for_model].append(\\n            (\\n                key,\\n                nr_topics_for_model,\\n                value[\\\"lda_models\\\"][topic_idx][1],\\n            )\\n        )\\n    assert len(d_lda_model_stats_equal_nr_topics[nr_topics_for_model]) == 28\\n\\nnum_topics_mean_coherence = []\\n\\nfor key, value in d_lda_model_stats_equal_nr_topics.items():\\n    coherence_values = [x[2] for x in value]\\n    num_topics_mean_coherence.append((key, np.mean(coherence_values)))\\n\\nnum_topics_mean_coherence.sort(key=lambda t: t[1], reverse=True)\\nprint(num_topics_mean_coherence)\";\n",
       "                var nbb_cells = Jupyter.notebook.get_cells();\n",
       "                for (var i = 0; i < nbb_cells.length; ++i) {\n",
       "                    if (nbb_cells[i].input_prompt_number == nbb_cell_id) {\n",
       "                        if (nbb_cells[i].get_text() == nbb_unformatted_code) {\n",
       "                             nbb_cells[i].set_text(nbb_formatted_code);\n",
       "                        }\n",
       "                        break;\n",
       "                    }\n",
       "                }\n",
       "            }, 500);\n",
       "            "
      ],
      "text/plain": [
       "<IPython.core.display.Javascript object>"
      ]
     },
     "metadata": {},
     "output_type": "display_data"
    }
   ],
   "source": [
    "d_lda_model_stats_equal_nr_topics = {}\n",
    "\n",
    "for nr_topics_for_model in range(start, limit, step):\n",
    "    topic_idx = int((nr_topics_for_model - start) / step)\n",
    "    for i, (key, value) in enumerate(corpus_d.items()):\n",
    "        if nr_topics_for_model not in d_lda_model_stats_equal_nr_topics:\n",
    "            d_lda_model_stats_equal_nr_topics[nr_topics_for_model] = []\n",
    "        d_lda_model_stats_equal_nr_topics[nr_topics_for_model].append(\n",
    "            (\n",
    "                key,\n",
    "                nr_topics_for_model,\n",
    "                value[\"lda_models\"][topic_idx][1],\n",
    "            )\n",
    "        )\n",
    "    assert len(d_lda_model_stats_equal_nr_topics[nr_topics_for_model]) == 28\n",
    "\n",
    "num_topics_mean_coherence = []\n",
    "\n",
    "for key, value in d_lda_model_stats_equal_nr_topics.items():\n",
    "    coherence_values = [x[2] for x in value]\n",
    "    num_topics_mean_coherence.append((key, np.mean(coherence_values)))\n",
    "\n",
    "num_topics_mean_coherence.sort(key=lambda t: t[1], reverse=True)\n",
    "print(num_topics_mean_coherence)"
   ]
  },
  {
   "cell_type": "code",
   "execution_count": 24,
   "metadata": {},
   "outputs": [
    {
     "data": {
      "application/javascript": [
       "\n",
       "            setTimeout(function() {\n",
       "                var nbb_cell_id = 24;\n",
       "                var nbb_unformatted_code = \"# choose best coherence mean for equal number of topics\\noptimal_eq_num_topics = d_lda_model_stats_equal_nr_topics[\\n    num_topics_mean_coherence[0][0]\\n]\";\n",
       "                var nbb_formatted_code = \"# choose best coherence mean for equal number of topics\\noptimal_eq_num_topics = d_lda_model_stats_equal_nr_topics[\\n    num_topics_mean_coherence[0][0]\\n]\";\n",
       "                var nbb_cells = Jupyter.notebook.get_cells();\n",
       "                for (var i = 0; i < nbb_cells.length; ++i) {\n",
       "                    if (nbb_cells[i].input_prompt_number == nbb_cell_id) {\n",
       "                        if (nbb_cells[i].get_text() == nbb_unformatted_code) {\n",
       "                             nbb_cells[i].set_text(nbb_formatted_code);\n",
       "                        }\n",
       "                        break;\n",
       "                    }\n",
       "                }\n",
       "            }, 500);\n",
       "            "
      ],
      "text/plain": [
       "<IPython.core.display.Javascript object>"
      ]
     },
     "metadata": {},
     "output_type": "display_data"
    }
   ],
   "source": [
    "# choose best coherence mean for equal number of topics\n",
    "optimal_eq_num_topics = d_lda_model_stats_equal_nr_topics[\n",
    "    num_topics_mean_coherence[0][0]\n",
    "]"
   ]
  },
  {
   "cell_type": "code",
   "execution_count": 25,
   "metadata": {},
   "outputs": [
    {
     "name": "stdout",
     "output_type": "stream",
     "text": [
      "post coherence mean: 0.7860641536073588\n",
      "post coherence median: 0.7903325681546594\n"
     ]
    },
    {
     "data": {
      "application/javascript": [
       "\n",
       "            setTimeout(function() {\n",
       "                var nbb_cell_id = 25;\n",
       "                var nbb_unformatted_code = \"print(f\\\"post coherence mean: {np.mean([x[2] for x in optimal_eq_num_topics])}\\\")\\nprint(f\\\"post coherence median: {np.median([x[2] for x in optimal_eq_num_topics])}\\\")\";\n",
       "                var nbb_formatted_code = \"print(f\\\"post coherence mean: {np.mean([x[2] for x in optimal_eq_num_topics])}\\\")\\nprint(f\\\"post coherence median: {np.median([x[2] for x in optimal_eq_num_topics])}\\\")\";\n",
       "                var nbb_cells = Jupyter.notebook.get_cells();\n",
       "                for (var i = 0; i < nbb_cells.length; ++i) {\n",
       "                    if (nbb_cells[i].input_prompt_number == nbb_cell_id) {\n",
       "                        if (nbb_cells[i].get_text() == nbb_unformatted_code) {\n",
       "                             nbb_cells[i].set_text(nbb_formatted_code);\n",
       "                        }\n",
       "                        break;\n",
       "                    }\n",
       "                }\n",
       "            }, 500);\n",
       "            "
      ],
      "text/plain": [
       "<IPython.core.display.Javascript object>"
      ]
     },
     "metadata": {},
     "output_type": "display_data"
    }
   ],
   "source": [
    "print(f\"post coherence mean: {np.mean([x[2] for x in optimal_eq_num_topics])}\")\n",
    "print(f\"post coherence median: {np.median([x[2] for x in optimal_eq_num_topics])}\")"
   ]
  },
  {
   "cell_type": "code",
   "execution_count": 26,
   "metadata": {},
   "outputs": [
    {
     "data": {
      "text/plain": [
       "[('2019-05', 3, 0.8005875913529067),\n",
       " ('2019-06', 3, 0.7922839569636754),\n",
       " ('2019-07', 3, 0.8286219671979995),\n",
       " ('2019-08', 3, 0.8103392290245587),\n",
       " ('2019-09', 3, 0.7580041026050832),\n",
       " ('2019-10', 3, 0.7883811793456434),\n",
       " ('2019-11', 3, 0.7856263651498109),\n",
       " ('2019-12', 3, 0.7948842873758172),\n",
       " ('2020-01', 3, 0.8061047087714669),\n",
       " ('2020-02', 3, 0.770034171332744),\n",
       " ('2020-03', 3, 0.8181749146984285),\n",
       " ('2020-04', 3, 0.8184834219262255),\n",
       " ('2020-05', 3, 0.8258408113355723),\n",
       " ('2020-06', 3, 0.7719380009722805),\n",
       " ('2020-07', 3, 0.7399244962814532),\n",
       " ('2020-08', 3, 0.7582687968178696),\n",
       " ('2020-09', 3, 0.797492366094489),\n",
       " ('2020-10', 3, 0.7419299754194948),\n",
       " ('2020-11', 3, 0.7231669184927249),\n",
       " ('2020-12', 3, 0.8113149037792454),\n",
       " ('2021-01', 3, 0.7773203029491578),\n",
       " ('2021-02', 3, 0.7773811438743398),\n",
       " ('2021-03', 3, 0.7994426536766279),\n",
       " ('2021-04', 3, 0.7612360636949198),\n",
       " ('2021-05', 3, 0.7720045780923476),\n",
       " ('2021-06', 3, 0.8014271069209821),\n",
       " ('2021-07', 3, 0.8165169605031751),\n",
       " ('2021-08', 3, 0.7630653263570099)]"
      ]
     },
     "execution_count": 26,
     "metadata": {},
     "output_type": "execute_result"
    },
    {
     "data": {
      "application/javascript": [
       "\n",
       "            setTimeout(function() {\n",
       "                var nbb_cell_id = 26;\n",
       "                var nbb_unformatted_code = \"optimal_eq_num_topics\";\n",
       "                var nbb_formatted_code = \"optimal_eq_num_topics\";\n",
       "                var nbb_cells = Jupyter.notebook.get_cells();\n",
       "                for (var i = 0; i < nbb_cells.length; ++i) {\n",
       "                    if (nbb_cells[i].input_prompt_number == nbb_cell_id) {\n",
       "                        if (nbb_cells[i].get_text() == nbb_unformatted_code) {\n",
       "                             nbb_cells[i].set_text(nbb_formatted_code);\n",
       "                        }\n",
       "                        break;\n",
       "                    }\n",
       "                }\n",
       "            }, 500);\n",
       "            "
      ],
      "text/plain": [
       "<IPython.core.display.Javascript object>"
      ]
     },
     "metadata": {},
     "output_type": "display_data"
    }
   ],
   "source": [
    "optimal_eq_num_topics"
   ]
  },
  {
   "cell_type": "markdown",
   "metadata": {},
   "source": [
    "### inteprete: top 10 keywords -> topic"
   ]
  },
  {
   "cell_type": "code",
   "execution_count": 27,
   "metadata": {
    "scrolled": true
   },
   "outputs": [
    {
     "name": "stdout",
     "output_type": "stream",
     "text": [
      "## 2019-05 | 3 Topics | coherence 0.8005875913529067\n",
      "\n",
      "### Topic: 1 | weights_mean: 0.0034 | relative weight: 0.4146 | \n",
      "[('video ', 0.005), ('cdu ', 0.004), ('partei ', 0.004), ('grünen ', 0.003), ('wählen ', 0.003), ('menschen ', 0.003), ('rezo ', 0.003), ('afd ', 0.003), ('parteien ', 0.003), ('deutschland', 0.003)] \n",
      "\n",
      "### Topic: 2 | weights_mean: 0.0022 | relative weight: 0.2683 | \n",
      "[('impressum ', 0.003), ('ströer ', 0.003), ('grenzen ', 0.002), ('tube ', 0.002), ('tubeone ', 0.002), ('religion ', 0.002), ('faz ', 0.002), ('inhalte ', 0.002), ('ramstein ', 0.002), ('wikipedia', 0.002)] \n",
      "\n",
      "### Topic: 3 | weights_mean: 0.0026 | relative weight: 0.3171 | \n",
      "[('energien ', 0.004), ('erneuerbare ', 0.003), ('strom ', 0.003), ('atmosphäre ', 0.003), ('wind ', 0.003), ('temperatur ', 0.002), ('energie ', 0.002), ('prozent ', 0.002), ('erneuerbaren ', 0.002), ('ipcc', 0.002)] \n",
      "\n",
      "\n",
      "\n",
      "\n",
      "## 2019-06 | 3 Topics | coherence 0.7922839569636754\n",
      "\n",
      "### Topic: 1 | weights_mean: 0.004 | relative weight: 0.5714 | \n",
      "[('abzulehnen ', 0.006), ('herrschaften ', 0.005), ('geliefert ', 0.005), ('aussehen ', 0.005), ('davor ', 0.004), ('argumenten ', 0.004), ('angebot ', 0.004), ('schlechter ', 0.003), ('angst ', 0.002), ('freiwillig', 0.002)] \n",
      "\n",
      "### Topic: 2 | weights_mean: 0.0004 | relative weight: 0.0571 | \n",
      "[('befasse ', 0.002), ('gucke ', 0.001), ('sauce ', 0.001), ('lerne ', 0.0), ('quark ', 0.0), ('ruhe ', 0.0), ('realität ', 0.0), ('wilkerson ', 0.0), ('anrüchiges ', 0.0), ('instagramstars', 0.0)] \n",
      "\n",
      "### Topic: 3 | weights_mean: 0.0026 | relative weight: 0.3714 | \n",
      "[('rezo ', 0.004), ('video ', 0.004), ('sogar ', 0.003), ('gut ', 0.003), ('geld ', 0.002), ('quellen ', 0.002), ('cdu ', 0.002), ('deutschland ', 0.002), ('fakten ', 0.002), ('menschen', 0.002)] \n",
      "\n",
      "\n",
      "\n",
      "\n",
      "## 2019-07 | 3 Topics | coherence 0.8286219671979995\n",
      "\n",
      "### Topic: 1 | weights_mean: 0.0011 | relative weight: 0.3056 | \n",
      "[('video ', 0.002), ('rezo ', 0.001), ('menschen ', 0.001), ('meinung ', 0.001), ('grünen ', 0.001), ('gut ', 0.001), ('deutschland ', 0.001), ('cdu ', 0.001), ('jahren ', 0.001), ('klimawandel', 0.001)] \n",
      "\n",
      "### Topic: 2 | weights_mean: 0.0015 | relative weight: 0.4167 | \n",
      "[('faktencheck ', 0.002), ('rezo ', 0.002), ('video ', 0.002), ('gut ', 0.002), ('janich ', 0.002), ('menschen ', 0.001), ('deutschland ', 0.001), ('grünen ', 0.001), ('oliver ', 0.001), ('welt', 0.001)] \n",
      "\n",
      "### Topic: 3 | weights_mean: 0.001 | relative weight: 0.2778 | \n",
      "[('afd ', 0.001), ('cdu ', 0.001), ('menschen ', 0.001), ('gut ', 0.001), ('klimawandel ', 0.001), ('rezo ', 0.001), ('erst ', 0.001), ('leyen ', 0.001), ('video ', 0.001), ('welt', 0.001)] \n",
      "\n",
      "\n",
      "\n",
      "\n",
      "## 2019-08 | 3 Topics | coherence 0.8103392290245587\n",
      "\n",
      "### Topic: 1 | weights_mean: 0.002 | relative weight: 0.4762 | \n",
      "[('video ', 0.003), ('rezo ', 0.003), ('menschen ', 0.002), ('deutschland ', 0.002), ('gut ', 0.002), ('grünen ', 0.002), ('afd ', 0.002), ('cdu ', 0.002), ('schmidt ', 0.001), ('bitte', 0.001)] \n",
      "\n",
      "### Topic: 2 | weights_mean: 0.001 | relative weight: 0.2381 | \n",
      "[('jahren ', 0.001), ('nix ', 0.001), ('klimawandel ', 0.001), ('menschen ', 0.001), ('weniger ', 0.001), ('ganzen ', 0.001), ('millionen ', 0.001), ('deutschen ', 0.001), ('paar ', 0.001), ('jahre', 0.001)] \n",
      "\n",
      "### Topic: 3 | weights_mean: 0.0012 | relative weight: 0.2857 | \n",
      "[('video ', 0.002), ('rezo ', 0.002), ('kriegst ', 0.001), ('schmitt ', 0.001), ('gerald ', 0.001), ('endlich ', 0.001), ('cdu ', 0.001), ('melde ', 0.001), ('klick ', 0.001), ('feige', 0.001)] \n",
      "\n",
      "\n",
      "\n",
      "\n",
      "## 2019-09 | 3 Topics | coherence 0.7580041026050832\n",
      "\n",
      "### Topic: 1 | weights_mean: 0.0014 | relative weight: 0.4 | \n",
      "[('video ', 0.002), ('klimawandel ', 0.002), ('rezo ', 0.002), ('menschen ', 0.002), ('politik ', 0.001), ('auto ', 0.001), ('echt ', 0.001), ('leute ', 0.001), ('wirklich ', 0.001), ('welt', 0.001)] \n",
      "\n",
      "### Topic: 2 | weights_mean: 0.0011 | relative weight: 0.3143 | \n",
      "[('video ', 0.002), ('grünen ', 0.001), ('rezo ', 0.001), ('menschen ', 0.001), ('partei ', 0.001), ('leben ', 0.001), ('recht ', 0.001), ('warum ', 0.001), ('wirklich ', 0.001), ('afd', 0.001)] \n",
      "\n",
      "### Topic: 3 | weights_mean: 0.001 | relative weight: 0.2857 | \n",
      "[('menschen ', 0.001), ('leute ', 0.001), ('erst ', 0.001), ('grünen ', 0.001), ('jahren ', 0.001), ('klimawandel ', 0.001), ('erde ', 0.001), ('rezo ', 0.001), ('deutschland ', 0.001), ('naja', 0.001)] \n",
      "\n",
      "\n",
      "\n",
      "\n",
      "## 2019-10 | 3 Topics | coherence 0.7883811793456434\n",
      "\n",
      "### Topic: 1 | weights_mean: 0.0012 | relative weight: 0.3529 | \n",
      "[('rezo ', 0.002), ('video ', 0.002), ('afd ', 0.001), ('cdu ', 0.001), ('gut ', 0.001), ('menschen ', 0.001), ('bitte ', 0.001), ('meinung ', 0.001), ('leute ', 0.001), ('deutschland', 0.001)] \n",
      "\n",
      "### Topic: 2 | weights_mean: 0.0011 | relative weight: 0.3235 | \n",
      "[('grünen ', 0.002), ('meinung ', 0.001), ('video ', 0.001), ('menschen ', 0.001), ('klima ', 0.001), ('cdu ', 0.001), ('caniche ', 0.001), ('wissenschaftler ', 0.001), ('welt ', 0.001), ('deutschland', 0.001)] \n",
      "\n",
      "### Topic: 3 | weights_mean: 0.0011 | relative weight: 0.3235 | \n",
      "[('video ', 0.002), ('deutschland ', 0.001), ('meinung ', 0.001), ('afd ', 0.001), ('menschen ', 0.001), ('cdu ', 0.001), ('gut ', 0.001), ('welt ', 0.001), ('youtube ', 0.001), ('youtuber', 0.001)] \n",
      "\n",
      "\n",
      "\n",
      "\n",
      "## 2019-11 | 3 Topics | coherence 0.7856263651498109\n",
      "\n",
      "### Topic: 1 | weights_mean: 0.001 | relative weight: 0.3226 | \n",
      "[('afd ', 0.001), ('grünen ', 0.001), ('cdu ', 0.001), ('deutschland ', 0.001), ('menschen ', 0.001), ('partei ', 0.001), ('klimawandel ', 0.001), ('video ', 0.001), ('sonne ', 0.001), ('thesen', 0.001)] \n",
      "\n",
      "### Topic: 2 | weights_mean: 0.001 | relative weight: 0.3226 | \n",
      "[('jahren ', 0.001), ('afd ', 0.001), ('gut ', 0.001), ('partei ', 0.001), ('menschen ', 0.001), ('einzige ', 0.001), ('leben ', 0.001), ('cdu ', 0.001), ('erde ', 0.001), ('meinung', 0.001)] \n",
      "\n",
      "### Topic: 3 | weights_mean: 0.0011 | relative weight: 0.3548 | \n",
      "[('video ', 0.002), ('menschen ', 0.001), ('meinung ', 0.001), ('afd ', 0.001), ('gut ', 0.001), ('thema ', 0.001), ('finde ', 0.001), ('rezo ', 0.001), ('klima ', 0.001), ('gemacht', 0.001)] \n",
      "\n",
      "\n",
      "\n",
      "\n",
      "## 2019-12 | 3 Topics | coherence 0.7948842873758172\n",
      "\n",
      "### Topic: 1 | weights_mean: 0.0011 | relative weight: 0.3333 | \n",
      "[('afd ', 0.002), ('rezo ', 0.001), ('video ', 0.001), ('eike ', 0.001), ('cdu ', 0.001), ('boomer ', 0.001), ('leider ', 0.001), ('gut ', 0.001), ('studien ', 0.001), ('klimawandel', 0.001)] \n",
      "\n",
      "### Topic: 2 | weights_mean: 0.0012 | relative weight: 0.3636 | \n",
      "[('afd ', 0.002), ('euro ', 0.002), ('eike ', 0.001), ('video ', 0.001), ('troll ', 0.001), ('deutschland ', 0.001), ('cdu ', 0.001), ('lassen ', 0.001), ('benben ', 0.001), ('demagogen', 0.001)] \n",
      "\n",
      "### Topic: 3 | weights_mean: 0.001 | relative weight: 0.303 | \n",
      "[('klimawandel ', 0.001), ('einzige ', 0.001), ('meinung ', 0.001), ('video ', 0.001), ('menschen ', 0.001), ('afd ', 0.001), ('geld ', 0.001), ('kinder ', 0.001), ('rund ', 0.001), ('cdu', 0.001)] \n",
      "\n",
      "\n",
      "\n",
      "\n",
      "## 2020-01 | 3 Topics | coherence 0.8061047087714669\n",
      "\n",
      "### Topic: 1 | weights_mean: 0.0012 | relative weight: 0.2449 | \n",
      "[('video ', 0.002), ('gut ', 0.002), ('afd ', 0.001), ('rezo ', 0.001), ('klimawandel ', 0.001), ('fakten ', 0.001), ('cdu ', 0.001), ('wissen ', 0.001), ('grünen ', 0.001), ('mach', 0.001)] \n",
      "\n",
      "### Topic: 2 | weights_mean: 0.0016 | relative weight: 0.3265 | \n",
      "[('afd ', 0.003), ('video ', 0.002), ('klima ', 0.002), ('ganze ', 0.002), ('eike ', 0.002), ('gemacht ', 0.001), ('wetter ', 0.001), ('langsam ', 0.001), ('halten ', 0.001), ('rezo', 0.001)] \n",
      "\n",
      "### Topic: 3 | weights_mean: 0.0021 | relative weight: 0.4286 | \n",
      "[('afd ', 0.005), ('eike ', 0.002), ('boomer ', 0.002), ('troll ', 0.002), ('propaganda ', 0.002), ('marionette ', 0.002), ('deppen ', 0.002), ('demagogen ', 0.002), ('mb ', 0.001), ('benben', 0.001)] \n",
      "\n",
      "\n",
      "\n",
      "\n",
      "## 2020-02 | 3 Topics | coherence 0.770034171332744\n",
      "\n",
      "### Topic: 1 | weights_mean: 0.0012 | relative weight: 0.3243 | \n",
      "[('afd ', 0.002), ('cdu ', 0.002), ('rezo ', 0.001), ('deutschland ', 0.001), ('video ', 0.001), ('quellen ', 0.001), ('leute ', 0.001), ('eike ', 0.001), ('partei ', 0.001), ('jahren', 0.001)] \n",
      "\n",
      "### Topic: 2 | weights_mean: 0.0012 | relative weight: 0.3243 | \n",
      "[('afd ', 0.002), ('menschen ', 0.002), ('gut ', 0.001), ('meinung ', 0.001), ('marionette ', 0.001), ('eike ', 0.001), ('leute ', 0.001), ('partei ', 0.001), ('video ', 0.001), ('bernd', 0.001)] \n",
      "\n",
      "### Topic: 3 | weights_mean: 0.0013 | relative weight: 0.3514 | \n",
      "[('cdu ', 0.002), ('video ', 0.002), ('afd ', 0.002), ('grünen ', 0.001), ('rezo ', 0.001), ('parteien ', 0.001), ('menschen ', 0.001), ('meinung ', 0.001), ('recht ', 0.001), ('spd', 0.001)] \n",
      "\n",
      "\n",
      "\n",
      "\n",
      "## 2020-03 | 3 Topics | coherence 0.8181749146984285\n",
      "\n",
      "### Topic: 1 | weights_mean: 0.0014 | relative weight: 0.3182 | \n",
      "[('rezo ', 0.002), ('menschen ', 0.002), ('video ', 0.002), ('cdu ', 0.002), ('leute ', 0.001), ('afd ', 0.001), ('gut ', 0.001), ('deutschland ', 0.001), ('politik ', 0.001), ('corona', 0.001)] \n",
      "\n",
      "### Topic: 2 | weights_mean: 0.0017 | relative weight: 0.3864 | \n",
      "[('afd ', 0.003), ('eike ', 0.002), ('cdu ', 0.002), ('troll ', 0.002), ('video ', 0.002), ('partei ', 0.002), ('iq ', 0.001), ('gut ', 0.001), ('klimawandel ', 0.001), ('habt', 0.001)] \n",
      "\n",
      "### Topic: 3 | weights_mean: 0.0013 | relative weight: 0.2955 | \n",
      "[('video ', 0.002), ('cdu ', 0.002), ('gut ', 0.002), ('deutschland ', 0.001), ('wahr ', 0.001), ('afd ', 0.001), ('finde ', 0.001), ('leute ', 0.001), ('corona ', 0.001), ('politiker', 0.001)] \n",
      "\n",
      "\n",
      "\n",
      "\n",
      "## 2020-04 | 3 Topics | coherence 0.8184834219262255\n",
      "\n",
      "### Topic: 1 | weights_mean: 0.0015 | relative weight: 0.2941 | \n",
      "[('video ', 0.003), ('partei ', 0.002), ('gut ', 0.002), ('cdu ', 0.002), ('fakten ', 0.001), ('afd ', 0.001), ('hätte ', 0.001), ('menschen ', 0.001), ('greta ', 0.001), ('meinung', 0.001)] \n",
      "\n",
      "### Topic: 2 | weights_mean: 0.0023 | relative weight: 0.451 | \n",
      "[('kannst ', 0.004), ('afd ', 0.003), ('shame ', 0.002), ('reichweite ', 0.002), ('bitte ', 0.002), ('video ', 0.002), ('rares ', 0.002), ('eike ', 0.002), ('gelogen ', 0.002), ('wirklich', 0.002)] \n",
      "\n",
      "### Topic: 3 | weights_mean: 0.0013 | relative weight: 0.2549 | \n",
      "[('cdu ', 0.002), ('afd ', 0.002), ('rezo ', 0.002), ('deutschland ', 0.001), ('habt ', 0.001), ('menschen ', 0.001), ('politik ', 0.001), ('corona ', 0.001), ('fakten ', 0.001), ('gerade', 0.001)] \n",
      "\n",
      "\n",
      "\n",
      "\n",
      "## 2020-05 | 3 Topics | coherence 0.8258408113355723\n",
      "\n",
      "### Topic: 1 | weights_mean: 0.0017 | relative weight: 0.2833 | \n",
      "[('video ', 0.002), ('afd ', 0.002), ('grünen ', 0.002), ('cdu ', 0.002), ('meinung ', 0.002), ('deutschland ', 0.002), ('wählen ', 0.002), ('politik ', 0.001), ('leute ', 0.001), ('hätte', 0.001)] \n",
      "\n",
      "### Topic: 2 | weights_mean: 0.0032 | relative weight: 0.5333 | \n",
      "[('cdu ', 0.004), ('rezo ', 0.004), ('zeit ', 0.003), ('video ', 0.003), ('fragen ', 0.003), ('melden ', 0.003), ('pdf ', 0.003), ('kannst ', 0.003), ('datei ', 0.003), ('empfehle', 0.003)] \n",
      "\n",
      "### Topic: 3 | weights_mean: 0.0011 | relative weight: 0.1833 | \n",
      "[('video ', 0.002), ('menschen ', 0.001), ('afd ', 0.001), ('bitte ', 0.001), ('meinung ', 0.001), ('gut ', 0.001), ('klimawandel ', 0.001), ('parteien ', 0.001), ('danke ', 0.001), ('partei', 0.001)] \n",
      "\n",
      "\n",
      "\n",
      "\n",
      "## 2020-06 | 3 Topics | coherence 0.7719380009722805\n",
      "\n",
      "### Topic: 1 | weights_mean: 0.0014 | relative weight: 0.3684 | \n",
      "[('afd ', 0.003), ('rezo ', 0.002), ('cdu ', 0.002), ('video ', 0.001), ('parteien ', 0.001), ('eike ', 0.001), ('meinung ', 0.001), ('gut ', 0.001), ('quellen ', 0.001), ('warum', 0.001)] \n",
      "\n",
      "### Topic: 2 | weights_mean: 0.0014 | relative weight: 0.3684 | \n",
      "[('cdu ', 0.002), ('menschen ', 0.002), ('deutschland ', 0.002), ('video ', 0.002), ('rezo ', 0.001), ('afd ', 0.001), ('heute ', 0.001), ('grünen ', 0.001), ('kommentare ', 0.001), ('alte', 0.001)] \n",
      "\n",
      "### Topic: 3 | weights_mean: 0.001 | relative weight: 0.2632 | \n",
      "[('afd ', 0.001), ('video ', 0.001), ('geld ', 0.001), ('cdu ', 0.001), ('fakten ', 0.001), ('politik ', 0.001), ('meinung ', 0.001), ('rezo ', 0.001), ('menschen ', 0.001), ('politiker', 0.001)] \n",
      "\n",
      "\n",
      "\n",
      "\n",
      "## 2020-07 | 3 Topics | coherence 0.7399244962814532\n",
      "\n",
      "### Topic: 1 | weights_mean: 0.0017 | relative weight: 0.2329 | \n",
      "[('menschen ', 0.003), ('ideologie ', 0.003), ('propaganda ', 0.002), ('afd ', 0.002), ('führt ', 0.002), ('begriffe ', 0.001), ('angst ', 0.001), ('fakten ', 0.001), ('mensch ', 0.001), ('klimawandel', 0.001)] \n",
      "\n",
      "### Topic: 2 | weights_mean: 0.001 | relative weight: 0.137 | \n",
      "[('parteien ', 0.001), ('jahren ', 0.001), ('cdu ', 0.001), ('mario ', 0.001), ('vielleicht ', 0.001), ('rares ', 0.001), ('wirklich ', 0.001), ('wählen ', 0.001), ('portugal ', 0.001), ('umwelt', 0.001)] \n",
      "\n",
      "### Topic: 3 | weights_mean: 0.0046 | relative weight: 0.6301 | \n",
      "[('reagieren ', 0.006), ('argumente ', 0.006), ('afd ', 0.006), ('youtube ', 0.005), ('kanal ', 0.005), ('existenz ', 0.005), ('video ', 0.004), ('beschränkt ', 0.003), ('beleidigen ', 0.003), ('handlungen', 0.003)] \n",
      "\n",
      "\n",
      "\n",
      "\n",
      "## 2020-08 | 3 Topics | coherence 0.7582687968178696\n",
      "\n",
      "### Topic: 1 | weights_mean: 0.0018 | relative weight: 0.3913 | \n",
      "[('afd ', 0.003), ('menschen ', 0.002), ('video ', 0.002), ('kriminalität ', 0.002), ('warum ', 0.002), ('mi ', 0.002), ('durchschauen ', 0.002), ('bösen ', 0.001), ('führt ', 0.001), ('argumente', 0.001)] \n",
      "\n",
      "### Topic: 2 | weights_mean: 0.0015 | relative weight: 0.3261 | \n",
      "[('afd ', 0.004), ('lol ', 0.002), ('nerven ', 0.002), ('link ', 0.001), ('geschrieben ', 0.001), ('video ', 0.001), ('boomer ', 0.001), ('cdu ', 0.001), ('hypothese ', 0.001), ('rezo', 0.001)] \n",
      "\n",
      "### Topic: 3 | weights_mean: 0.0013 | relative weight: 0.2826 | \n",
      "[('afd ', 0.003), ('mario ', 0.002), ('meinung ', 0.001), ('tag ', 0.001), ('rares ', 0.001), ('eike ', 0.001), ('meinungsfreiheit ', 0.001), ('alternative ', 0.001), ('troll ', 0.001), ('ideologien', 0.001)] \n",
      "\n",
      "\n",
      "\n",
      "\n",
      "## 2020-09 | 3 Topics | coherence 0.797492366094489\n",
      "\n",
      "### Topic: 1 | weights_mean: 0.0017 | relative weight: 0.3333 | \n",
      "[('afd ', 0.004), ('eike ', 0.002), ('gut ', 0.002), ('menschen ', 0.002), ('partei ', 0.002), ('nazi ', 0.001), ('troll ', 0.001), ('klimawandel ', 0.001), ('marionette ', 0.001), ('schlecht', 0.001)] \n",
      "\n",
      "### Topic: 2 | weights_mean: 0.0015 | relative weight: 0.2941 | \n",
      "[('afd ', 0.003), ('nazi ', 0.002), ('menschen ', 0.002), ('eike ', 0.002), ('rares ', 0.001), ('hetze ', 0.001), ('extrem ', 0.001), ('boomer ', 0.001), ('blödes ', 0.001), ('ev', 0.001)] \n",
      "\n",
      "### Topic: 3 | weights_mean: 0.0019 | relative weight: 0.3725 | \n",
      "[('persönlich ', 0.003), ('ansicht ', 0.003), ('unserer ', 0.002), ('logik ', 0.002), ('wissen ', 0.002), ('inkompetenz ', 0.002), ('mario ', 0.002), ('stellen ', 0.001), ('jahr ', 0.001), ('manipulieren', 0.001)] \n",
      "\n",
      "\n",
      "\n",
      "\n",
      "## 2020-10 | 3 Topics | coherence 0.7419299754194948\n",
      "\n",
      "### Topic: 1 | weights_mean: 0.0022 | relative weight: 0.2558 | \n",
      "[('afd ', 0.004), ('überhaupt ', 0.002), ('deutschland ', 0.002), ('gauland ', 0.002), ('je ', 0.002), ('desto ', 0.002), ('besprochen ', 0.002), ('besser ', 0.002), ('schlechter ', 0.002), ('nachher', 0.002)] \n",
      "\n",
      "### Topic: 2 | weights_mean: 0.0014 | relative weight: 0.1628 | \n",
      "[('menschen ', 0.002), ('ppm ', 0.002), ('klimawandel ', 0.002), ('afd ', 0.002), ('meinung ', 0.001), ('faschisten ', 0.001), ('welt ', 0.001), ('gleichzeitig ', 0.001), ('hetze ', 0.001), ('unterstellungen', 0.001)] \n",
      "\n",
      "### Topic: 3 | weights_mean: 0.005 | relative weight: 0.5814 | \n",
      "[('wählen ', 0.005), ('danke ', 0.005), ('tierschutzpartei ', 0.005), ('unten ', 0.005), ('hallo ', 0.005), ('bundestagswahl ', 0.005), ('tippe ', 0.005), ('website ', 0.005), ('sprung ', 0.005), ('landtagswahl', 0.005)] \n",
      "\n",
      "\n",
      "\n",
      "\n",
      "## 2020-11 | 3 Topics | coherence 0.7231669184927249\n",
      "\n",
      "### Topic: 1 | weights_mean: 0.0015 | relative weight: 0.3 | \n",
      "[('afd ', 0.002), ('nazi ', 0.002), ('typ ', 0.002), ('trump ', 0.002), ('leben ', 0.002), ('video ', 0.001), ('eike ', 0.001), ('menschen ', 0.001), ('leute ', 0.001), ('jemand', 0.001)] \n",
      "\n",
      "### Topic: 2 | weights_mean: 0.001 | relative weight: 0.2 | \n",
      "[('afd ', 0.001), ('deutschland ', 0.001), ('ipcc ', 0.001), ('jahr ', 0.001), ('abonnenten ', 0.001), ('menschen ', 0.001), ('bereits ', 0.001), ('et ', 0.001), ('al ', 0.001), ('deutlich', 0.001)] \n",
      "\n",
      "### Topic: 3 | weights_mean: 0.0025 | relative weight: 0.5 | \n",
      "[('unterstellungen ', 0.003), ('lügen ', 0.003), ('mami ', 0.003), ('heimleiter ', 0.003), ('konversation ', 0.003), ('gelernt ', 0.002), ('oh ', 0.002), ('verbreitet ', 0.002), ('troll ', 0.002), ('normale', 0.002)] \n",
      "\n",
      "\n",
      "\n",
      "\n",
      "## 2020-12 | 3 Topics | coherence 0.8113149037792454\n",
      "\n",
      "### Topic: 1 | weights_mean: 0.0014 | relative weight: 0.3333 | \n",
      "[('afd ', 0.002), ('kommentare ', 0.002), ('eike ', 0.002), ('versager ', 0.002), ('bullshit ', 0.001), ('boomer ', 0.001), ('menschen ', 0.001), ('kanal ', 0.001), ('beleidigungen ', 0.001), ('fakten', 0.001)] \n",
      "\n",
      "### Topic: 2 | weights_mean: 0.0012 | relative weight: 0.2857 | \n",
      "[('afd ', 0.002), ('mario ', 0.002), ('video ', 0.001), ('lüge ', 0.001), ('wählen ', 0.001), ('partei ', 0.001), ('meinung ', 0.001), ('cdu ', 0.001), ('eike ', 0.001), ('klimawandel', 0.001)] \n",
      "\n",
      "### Topic: 3 | weights_mean: 0.0016 | relative weight: 0.381 | \n",
      "[('afd ', 0.003), ('cdu ', 0.003), ('partei ', 0.002), ('video ', 0.002), ('menschen ', 0.001), ('klimawandel ', 0.001), ('grünen ', 0.001), ('leute ', 0.001), ('deutschland ', 0.001), ('erde', 0.001)] \n",
      "\n",
      "\n",
      "\n",
      "\n",
      "## 2021-01 | 3 Topics | coherence 0.7773203029491578\n",
      "\n",
      "### Topic: 1 | weights_mean: 0.0081 | relative weight: 0.6532 | \n",
      "[('afd ', 0.014), ('glück ', 0.008), ('durchgesetzt ', 0.008), ('altparteien ', 0.008), ('lachten ', 0.008), ('verschärfte ', 0.008), ('forderte ', 0.008), ('corona ', 0.008), ('partei ', 0.008), ('steht', 0.003)] \n",
      "\n",
      "### Topic: 2 | weights_mean: 0.0013 | relative weight: 0.1048 | \n",
      "[('deutschland ', 0.002), ('afd ', 0.002), ('menschen ', 0.002), ('klimawandel ', 0.001), ('cdu ', 0.001), ('querdenker ', 0.001), ('warum ', 0.001), ('zusammenhang ', 0.001), ('kommentare ', 0.001), ('video', 0.001)] \n",
      "\n",
      "### Topic: 3 | weights_mean: 0.003 | relative weight: 0.2419 | \n",
      "[('maniac ', 0.003), ('aufgrund ', 0.003), ('unterstellungen ', 0.003), ('diffamierungen ', 0.003), ('cordes ', 0.003), ('faschistischen ', 0.003), ('methoden ', 0.003), ('axel ', 0.003), ('massiven ', 0.003), ('kommentarfunktion', 0.003)] \n",
      "\n",
      "\n",
      "\n",
      "\n",
      "## 2021-02 | 3 Topics | coherence 0.7773811438743398\n",
      "\n",
      "### Topic: 1 | weights_mean: 0.0168 | relative weight: 0.5076 | \n",
      "[('afd ', 0.034), ('partei ', 0.017), ('forderte ', 0.016), ('lachten ', 0.016), ('durchgesetzt ', 0.016), ('altparteien ', 0.016), ('corona ', 0.016), ('glück ', 0.016), ('verschärfte ', 0.015), ('thema', 0.006)] \n",
      "\n",
      "### Topic: 2 | weights_mean: 0.0104 | relative weight: 0.3142 | \n",
      "[('maniac ', 0.016), ('gollum ', 0.012), ('lügen ', 0.011), ('unterstellen ', 0.01), ('beleidigen ', 0.01), ('beleidigungen ', 0.009), ('unterstellungen ', 0.009), ('aufhören ', 0.009), ('werner ', 0.009), ('vogel', 0.009)] \n",
      "\n",
      "### Topic: 3 | weights_mean: 0.0059 | relative weight: 0.1782 | \n",
      "[('intelligent ', 0.008), ('anständig ', 0.008), ('linker ', 0.007), ('nazi ', 0.006), ('richtig ', 0.006), ('rezo ', 0.006), ('toll ', 0.006), ('parteien ', 0.005), ('kritik ', 0.004), ('negative', 0.003)] \n",
      "\n",
      "\n",
      "\n",
      "\n",
      "## 2021-03 | 3 Topics | coherence 0.7994426536766279\n",
      "\n",
      "### Topic: 1 | weights_mean: 0.0187 | relative weight: 0.3755 | \n",
      "[('gollum ', 0.022), ('maniac ', 0.021), ('faschistischen ', 0.018), ('axel ', 0.018), ('cordes ', 0.018), ('boffin ', 0.018), ('werner ', 0.018), ('massiven ', 0.018), ('bedanken ', 0.018), ('diffamierungen', 0.018)] \n",
      "\n",
      "### Topic: 2 | weights_mean: 0.021 | relative weight: 0.4217 | \n",
      "[('aufheizen ', 0.021), ('normalen ', 0.021), ('fiesen ', 0.021), ('festgesetzt ', 0.021), ('erkennungsmerkmal ', 0.021), ('meinungsaustausch ', 0.021), ('gegeneinander ', 0.021), ('aufwiegeln ', 0.021), ('spalten ', 0.021), ('einheitliches', 0.021)] \n",
      "\n",
      "### Topic: 3 | weights_mean: 0.0101 | relative weight: 0.2028 | \n",
      "[('grünen ', 0.017), ('zitat ', 0.012), ('afd ', 0.011), ('linker ', 0.01), ('terror ', 0.01), ('meinung ', 0.009), ('frei ', 0.008), ('volkstod ', 0.008), ('striegel ', 0.008), ('sebastian', 0.008)] \n",
      "\n",
      "\n",
      "\n",
      "\n",
      "## 2021-04 | 3 Topics | coherence 0.7612360636949198\n",
      "\n",
      "### Topic: 1 | weights_mean: 0.028 | relative weight: 0.5895 | \n",
      "[('gespielt ', 0.028), ('coronaregeln ', 0.028), ('geltenden ', 0.028), ('eingehalten ', 0.028), ('abstandsregeln ', 0.028), ('eigenes ', 0.028), ('couch ', 0.028), ('spiel ', 0.028), ('doppelmoralist ', 0.028), ('heutzutage', 0.028)] \n",
      "\n",
      "### Topic: 2 | weights_mean: 0.0116 | relative weight: 0.2442 | \n",
      "[('grünen ', 0.018), ('zitat ', 0.018), ('grüne ', 0.01), ('deutschland ', 0.01), ('land ', 0.01), ('jugend ', 0.01), ('existenzberechtigung ', 0.01), ('miene ', 0.01), ('waziri ', 0.01), ('wünschte', 0.01)] \n",
      "\n",
      "### Topic: 3 | weights_mean: 0.0079 | relative weight: 0.1663 | \n",
      "[('maniac ', 0.011), ('fanboysgirls ', 0.009), ('beleidigen ', 0.009), ('lügen ', 0.008), ('widerliche ', 0.007), ('afd ', 0.007), ('stefan ', 0.007), ('meinungsfreiheit ', 0.007), ('cordes ', 0.007), ('user', 0.007)] \n",
      "\n",
      "\n",
      "\n",
      "\n",
      "## 2021-05 | 3 Topics | coherence 0.7720045780923476\n",
      "\n",
      "### Topic: 1 | weights_mean: 0.0063 | relative weight: 0.1445 | \n",
      "[('wählt ', 0.012), ('löschen ', 0.007), ('lügen ', 0.007), ('widerliche ', 0.007), ('beleidigt ', 0.005), ('user ', 0.005), ('extremer ', 0.005), ('zeug ', 0.005), ('kommunikation ', 0.005), ('fanboys', 0.005)] \n",
      "\n",
      "### Topic: 2 | weights_mean: 0.0241 | relative weight: 0.5528 | \n",
      "[('volksverpetzer ', 0.048), ('fakenews ', 0.033), ('netz ', 0.032), ('hetze ', 0.032), ('euro ', 0.016), ('kellner ', 0.016), ('tim ', 0.016), ('gewinnt ', 0.016), ('strafe ', 0.016), ('hetzer', 0.016)] \n",
      "\n",
      "### Topic: 3 | weights_mean: 0.0132 | relative weight: 0.3028 | \n",
      "[('beleidigen ', 0.014), ('lügen ', 0.014), ('menschen ', 0.013), ('gegeneinander ', 0.013), ('normalen ', 0.013), ('spalten ', 0.013), ('fiesen ', 0.013), ('aufwiegeln ', 0.013), ('einheitliches ', 0.013), ('erkennungsmerkmal', 0.013)] \n",
      "\n",
      "\n",
      "\n",
      "\n",
      "## 2021-06 | 3 Topics | coherence 0.8014271069209821\n",
      "\n",
      "### Topic: 1 | weights_mean: 0.0123 | relative weight: 0.4749 | \n",
      "[('zitat ', 0.017), ('grünen ', 0.015), ('user ', 0.014), ('liebe ', 0.014), ('faschistin ', 0.012), ('heute ', 0.011), ('hindern ', 0.01), ('lasst ', 0.01), ('ekelhaften ', 0.01), ('beleidigen', 0.01)] \n",
      "\n",
      "### Topic: 2 | weights_mean: 0.0089 | relative weight: 0.3436 | \n",
      "[('faschisten ', 0.015), ('lügen ', 0.014), ('hetze ', 0.008), ('achtung ', 0.008), ('verbreiten ', 0.008), ('fallt ', 0.008), ('beiden ', 0.008), ('gerade ', 0.007), ('unterstellungen ', 0.007), ('lo', 0.006)] \n",
      "\n",
      "### Topic: 3 | weights_mean: 0.0047 | relative weight: 0.1815 | \n",
      "[('afd ', 0.008), ('wählt ', 0.007), ('deshalb ', 0.004), ('staat ', 0.004), ('gut ', 0.004), ('dinge ', 0.004), ('system ', 0.004), ('lügner ', 0.004), ('patriotismus ', 0.004), ('unwesentlichen', 0.004)] \n",
      "\n",
      "\n",
      "\n",
      "\n",
      "## 2021-07 | 3 Topics | coherence 0.8165169605031751\n",
      "\n",
      "### Topic: 1 | weights_mean: 0.0194 | relative weight: 0.4119 | \n",
      "[('lügen ', 0.03), ('lo ', 0.023), ('heute ', 0.022), ('verbreitet ', 0.019), ('birne ', 0.017), ('beleidigungen ', 0.017), ('achtung ', 0.017), ('gespammt ', 0.017), ('deswegen ', 0.016), ('faschist', 0.016)] \n",
      "\n",
      "### Topic: 2 | weights_mean: 0.0196 | relative weight: 0.4161 | \n",
      "[('grünen ', 0.031), ('weiterhin ', 0.021), ('hindern ', 0.018), ('frei ', 0.018), ('verkommen ', 0.018), ('andersdenkenden ', 0.018), ('ekelhaften ', 0.018), ('daran ', 0.018), ('besonders ', 0.018), ('widerlich', 0.018)] \n",
      "\n",
      "### Topic: 3 | weights_mean: 0.0081 | relative weight: 0.172 | \n",
      "[('zitat ', 0.013), ('deutschland ', 0.009), ('grünen ', 0.009), ('grüne ', 0.008), ('land ', 0.007), ('weltkrieg ', 0.007), ('waziri ', 0.007), ('jugend ', 0.007), ('striegel ', 0.007), ('sebastian', 0.007)] \n",
      "\n",
      "\n",
      "\n",
      "\n",
      "## 2021-08 | 3 Topics | coherence 0.7630653263570099\n",
      "\n"
     ]
    },
    {
     "name": "stdout",
     "output_type": "stream",
     "text": [
      "### Topic: 1 | weights_mean: 0.0059 | relative weight: 0.1192 | \n",
      "[('menschen ', 0.011), ('straftaten ', 0.008), ('junge ', 0.008), ('männliche ', 0.008), ('liegt ', 0.004), ('gründe ', 0.004), ('begehen ', 0.004), ('daran ', 0.004), ('negative ', 0.004), ('erfahrungen', 0.004)] \n",
      "\n",
      "### Topic: 2 | weights_mean: 0.0205 | relative weight: 0.4141 | \n",
      "[('lügen ', 0.032), ('liebe ', 0.032), ('faschisten ', 0.028), ('unterstellungen ', 0.017), ('lügner ', 0.016), ('hetzer ', 0.016), ('birne ', 0.016), ('schrei ', 0.016), ('stummer ', 0.016), ('verbreitet', 0.016)] \n",
      "\n",
      "### Topic: 3 | weights_mean: 0.0231 | relative weight: 0.4667 | \n",
      "[('grünen ', 0.042), ('annalena ', 0.04), ('baerbock ', 0.04), ('nwort ', 0.026), ('zitat ', 0.018), ('platz ', 0.013), ('saarland ', 0.013), ('spitzenkandidat ', 0.013), ('antidemokratischen ', 0.013), ('männerfeindlichen', 0.013)] \n",
      "\n",
      "\n",
      "\n",
      "\n"
     ]
    },
    {
     "data": {
      "application/javascript": [
       "\n",
       "            setTimeout(function() {\n",
       "                var nbb_cell_id = 27;\n",
       "                var nbb_unformatted_code = \"nr_words = 10\\n\\n\\ndef get_topics_format(topics):\\n    topics_words = []\\n    for topic in topics:\\n        s = topic[1].split(\\\"+\\\")\\n        s = [tuple(x.split(\\\"*\\\")) for x in s]\\n        weights = [float(x[0]) for x in s]\\n        words = [x[1].replace('\\\"', \\\"\\\") for x in s]\\n        topics_words.append(list(zip(words, weights)))\\n    return topics_words\\n\\n\\nfor idx, (key, value) in enumerate(corpus_d.items()):\\n    nr_t = optimal_eq_num_topics[idx][1]\\n    lda_index = int((nr_t - start) / step)\\n    coherence_value = value[\\\"lda_models\\\"][lda_index][1]\\n    print(f\\\"## {key} | {nr_t} Topics | coherence {coherence_value}\\\\n\\\")\\n\\n    weights = []\\n\\n    for i, topic_words in enumerate(\\n        get_topics_format(\\n            value[\\\"lda_models\\\"][lda_index][0].print_topics(num_words=nr_words)\\n        )\\n    ):\\n        weights_mean = sum([x[1] for x in topic_words]) / len(topic_words)\\n        relative_weight = weights_mean * len(topic_words)\\n        weights.append(relative_weight)\\n\\n    # normalize sum of relative weights to 1 (0.9999)\\n    assert len(weights) == nr_t\\n    weights_sum = sum(weights)\\n    weights = [round(x * (1 / weights_sum), 4) for x in weights]\\n    weights_sum = sum(weights)\\n    assert abs(1 - weights_sum) <= 0.001\\n\\n    for i, topic_words in enumerate(\\n        get_topics_format(\\n            value[\\\"lda_models\\\"][lda_index][0].print_topics(num_words=nr_words)\\n        )\\n    ):\\n        weights_mean = sum([x[1] for x in topic_words]) / len(topic_words)\\n        print(\\n            f\\\"### Topic: {i+1} | weights_mean: {round(weights_mean,4)} | relative weight: {weights[i]} | \\\"\\n        )\\n        print(topic_words, \\\"\\\\n\\\")\\n\\n    print(\\\"\\\\n\\\\n\\\")\";\n",
       "                var nbb_formatted_code = \"nr_words = 10\\n\\n\\ndef get_topics_format(topics):\\n    topics_words = []\\n    for topic in topics:\\n        s = topic[1].split(\\\"+\\\")\\n        s = [tuple(x.split(\\\"*\\\")) for x in s]\\n        weights = [float(x[0]) for x in s]\\n        words = [x[1].replace('\\\"', \\\"\\\") for x in s]\\n        topics_words.append(list(zip(words, weights)))\\n    return topics_words\\n\\n\\nfor idx, (key, value) in enumerate(corpus_d.items()):\\n    nr_t = optimal_eq_num_topics[idx][1]\\n    lda_index = int((nr_t - start) / step)\\n    coherence_value = value[\\\"lda_models\\\"][lda_index][1]\\n    print(f\\\"## {key} | {nr_t} Topics | coherence {coherence_value}\\\\n\\\")\\n\\n    weights = []\\n\\n    for i, topic_words in enumerate(\\n        get_topics_format(\\n            value[\\\"lda_models\\\"][lda_index][0].print_topics(num_words=nr_words)\\n        )\\n    ):\\n        weights_mean = sum([x[1] for x in topic_words]) / len(topic_words)\\n        relative_weight = weights_mean * len(topic_words)\\n        weights.append(relative_weight)\\n\\n    # normalize sum of relative weights to 1 (0.9999)\\n    assert len(weights) == nr_t\\n    weights_sum = sum(weights)\\n    weights = [round(x * (1 / weights_sum), 4) for x in weights]\\n    weights_sum = sum(weights)\\n    assert abs(1 - weights_sum) <= 0.001\\n\\n    for i, topic_words in enumerate(\\n        get_topics_format(\\n            value[\\\"lda_models\\\"][lda_index][0].print_topics(num_words=nr_words)\\n        )\\n    ):\\n        weights_mean = sum([x[1] for x in topic_words]) / len(topic_words)\\n        print(\\n            f\\\"### Topic: {i+1} | weights_mean: {round(weights_mean,4)} | relative weight: {weights[i]} | \\\"\\n        )\\n        print(topic_words, \\\"\\\\n\\\")\\n\\n    print(\\\"\\\\n\\\\n\\\")\";\n",
       "                var nbb_cells = Jupyter.notebook.get_cells();\n",
       "                for (var i = 0; i < nbb_cells.length; ++i) {\n",
       "                    if (nbb_cells[i].input_prompt_number == nbb_cell_id) {\n",
       "                        if (nbb_cells[i].get_text() == nbb_unformatted_code) {\n",
       "                             nbb_cells[i].set_text(nbb_formatted_code);\n",
       "                        }\n",
       "                        break;\n",
       "                    }\n",
       "                }\n",
       "            }, 500);\n",
       "            "
      ],
      "text/plain": [
       "<IPython.core.display.Javascript object>"
      ]
     },
     "metadata": {},
     "output_type": "display_data"
    }
   ],
   "source": [
    "nr_words = 10\n",
    "\n",
    "\n",
    "def get_topics_format(topics):\n",
    "    topics_words = []\n",
    "    for topic in topics:\n",
    "        s = topic[1].split(\"+\")\n",
    "        s = [tuple(x.split(\"*\")) for x in s]\n",
    "        weights = [float(x[0]) for x in s]\n",
    "        words = [x[1].replace('\"', \"\") for x in s]\n",
    "        topics_words.append(list(zip(words, weights)))\n",
    "    return topics_words\n",
    "\n",
    "\n",
    "for idx, (key, value) in enumerate(corpus_d.items()):\n",
    "    nr_t = optimal_eq_num_topics[idx][1]\n",
    "    lda_index = int((nr_t - start) / step)\n",
    "    coherence_value = value[\"lda_models\"][lda_index][1]\n",
    "    print(f\"## {key} | {nr_t} Topics | coherence {coherence_value}\\n\")\n",
    "\n",
    "    weights = []\n",
    "\n",
    "    for i, topic_words in enumerate(\n",
    "        get_topics_format(\n",
    "            value[\"lda_models\"][lda_index][0].print_topics(num_words=nr_words)\n",
    "        )\n",
    "    ):\n",
    "        weights_mean = sum([x[1] for x in topic_words]) / len(topic_words)\n",
    "        relative_weight = weights_mean * len(topic_words)\n",
    "        weights.append(relative_weight)\n",
    "\n",
    "    # normalize sum of relative weights to 1 (0.9999)\n",
    "    assert len(weights) == nr_t\n",
    "    weights_sum = sum(weights)\n",
    "    weights = [round(x * (1 / weights_sum), 4) for x in weights]\n",
    "    weights_sum = sum(weights)\n",
    "    assert abs(1 - weights_sum) <= 0.001\n",
    "\n",
    "    for i, topic_words in enumerate(\n",
    "        get_topics_format(\n",
    "            value[\"lda_models\"][lda_index][0].print_topics(num_words=nr_words)\n",
    "        )\n",
    "    ):\n",
    "        weights_mean = sum([x[1] for x in topic_words]) / len(topic_words)\n",
    "        print(\n",
    "            f\"### Topic: {i+1} | weights_mean: {round(weights_mean,4)} | relative weight: {weights[i]} | \"\n",
    "        )\n",
    "        print(topic_words, \"\\n\")\n",
    "\n",
    "    print(\"\\n\\n\")"
   ]
  }
 ],
 "metadata": {
  "kernelspec": {
   "display_name": "Python 3.8.5 64-bit",
   "language": "python",
   "name": "python38564bit13719079319b43f28007a75a272eccd3"
  },
  "language_info": {
   "codemirror_mode": {
    "name": "ipython",
    "version": 3
   },
   "file_extension": ".py",
   "mimetype": "text/x-python",
   "name": "python",
   "nbconvert_exporter": "python",
   "pygments_lexer": "ipython3",
   "version": "3.8.10"
  }
 },
 "nbformat": 4,
 "nbformat_minor": 4
}
